{
 "cells": [
  {
   "cell_type": "markdown",
   "metadata": {},
   "source": [
    "## Salary Prediction\n",
    "\n",
    "### Table of Contents\n",
    "\n",
    "1. [Problem Statement](#Problem-Statement)\n",
    "2. [Libraries](#Libraries)\n",
    "3. [Data Loading](#Data-Loading)\n",
    "4. [Exploratory Data Analysis](#Exploratory-Data-Analysis)\n",
    "   - [Dataset Summary](#Dataset-Summary)\n",
    "   - [Dataset Distribution](#Dataset-Distribution)\n",
    "   - [Data Quality Assessment](#Data-Quality-Assessment)\n",
    "     - [Missing Values](#Missing-Values)\n",
    "     - [Duplicates](#Duplicates)\n",
    "     - [Outliers](#Outliers)\n",
    "5. [Data Preprocessing](#Data-Preprocessing)\n",
    "6. [Model Building, Training and Hyperparameter Tuning](#Model-Building-and-Training)\n",
    "     1. [Model 1: Random Forest](#Model-1:-Random-Forest)\n",
    "     2. [Model 2: Logistic Regression](#Model-2:-Logistic-Regression)\n",
    "7. [Model Evaluation](#Model-Evaluation)\n",
    "8. [Results and Insights](#Results-and-insights)\n",
    "9.  [Future Work](#Future-Work)\n",
    "10. [Conclusion](#Conclusion)\n"
   ]
  },
  {
   "cell_type": "markdown",
   "metadata": {},
   "source": [
    "#### Problem Statement"
   ]
  },
  {
   "cell_type": "markdown",
   "metadata": {},
   "source": [
    "#### Libraries"
   ]
  },
  {
   "cell_type": "code",
   "execution_count": 1,
   "metadata": {},
   "outputs": [],
   "source": [
    "import pandas as pd\n",
    "import plotly.express as px"
   ]
  },
  {
   "cell_type": "markdown",
   "metadata": {},
   "source": [
    "#### Data Loading"
   ]
  },
  {
   "cell_type": "code",
   "execution_count": null,
   "metadata": {},
   "outputs": [],
   "source": [
    "salary_df = pd.read_csv(\"data/salary_data.csv\")"
   ]
  }
 ],
 "metadata": {
  "kernelspec": {
   "display_name": "Python 3",
   "language": "python",
   "name": "python3"
  },
  "language_info": {
   "codemirror_mode": {
    "name": "ipython",
    "version": 3
   },
   "file_extension": ".py",
   "mimetype": "text/x-python",
   "name": "python",
   "nbconvert_exporter": "python",
   "pygments_lexer": "ipython3",
   "version": "3.10.15"
  }
 },
 "nbformat": 4,
 "nbformat_minor": 2
}
