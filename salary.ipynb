{
 "cells": [
  {
   "cell_type": "markdown",
   "metadata": {},
   "source": [
    "## Salary Prediction\n",
    "\n",
    "### Table of Contents\n",
    "\n",
    "1. [Problem Statement](#Problem-Statement)\n",
    "2. [Libraries](#Libraries)\n",
    "3. [Data Loading](#Data-Loading)\n",
    "4. [Exploratory Data Analysis](#Exploratory-Data-Analysis)\n",
    "   - [Dataset Summary](#Dataset-Summary)\n",
    "   - [Data Quality Assessment](#Data-Quality-Assessment)\n",
    "        - [Missing Values](#Missing-Values)\n",
    "        - [Duplicates](#Duplicates)\n",
    "   - [Dataset Distribution](#Dataset-Distribution)\n",
    "5. [Data Preprocessing](#Data-Preprocessing)\n",
    "6. [Model Building, Training and Hyperparameter Tuning](#Model-Building-and-Training)\n",
    "     1. [Model 1: Random Forest](#Model-1:-Random-Forest)\n",
    "     2. [Model 2: Linear Regression](#Model-2:-Linear-Regression)\n",
    "7. [Model Evaluation](#Model-Evaluation)\n",
    "8. [Results and Insights](#Results-and-insights)\n",
    "9.  [Future Work](#Future-Work)\n",
    "10. [Conclusion](#Conclusion)\n"
   ]
  },
  {
   "cell_type": "markdown",
   "metadata": {},
   "source": [
    "#### Problem Statement"
   ]
  },
  {
   "cell_type": "markdown",
   "metadata": {},
   "source": [
    "#### Libraries"
   ]
  },
  {
   "cell_type": "code",
   "execution_count": 1,
   "metadata": {},
   "outputs": [],
   "source": [
    "import pandas as pd\n",
    "import plotly.express as px\n",
    "from sklearn.compose import ColumnTransformer\n",
    "from sklearn.preprocessing import OneHotEncoder\n",
    "from sklearn.linear_model import LinearRegression\n",
    "from sklearn.ensemble import RandomForestRegressor\n",
    "from sklearn.pipeline import Pipeline\n",
    "from sklearn.model_selection import cross_validate\n",
    "from tabulate import tabulate\n",
    "import joblib\n",
    "from sklearn.model_selection import train_test_split\n",
    "from sklearn.metrics import mean_squared_error, r2_score\n",
    "from sklearn.model_selection import GridSearchCV\n",
    "from helper import header_manipulation, check_unique_values"
   ]
  },
  {
   "cell_type": "markdown",
   "metadata": {},
   "source": [
    "#### Data Loading"
   ]
  },
  {
   "cell_type": "code",
   "execution_count": 2,
   "metadata": {},
   "outputs": [
    {
     "data": {
      "text/plain": [
       "Index(['Unnamed: 0', 'Job Title', 'Location', 'Size', 'Type of ownership',\n",
       "       'Industry', 'Sector', 'hourly', 'employer_provided', 'min_salary',\n",
       "       'max_salary', 'avg_salary', 'job_state', 'python_yn', 'R_yn', 'spark',\n",
       "       'aws', 'excel', 'job_simp', 'seniority'],\n",
       "      dtype='object')"
      ]
     },
     "execution_count": 2,
     "metadata": {},
     "output_type": "execute_result"
    }
   ],
   "source": [
    "# load the dataset\n",
    "salary_df = pd.read_csv(\"data/salary_data.csv\")\n",
    "\n",
    "# display the columns\n",
    "salary_df.columns"
   ]
  },
  {
   "cell_type": "markdown",
   "metadata": {},
   "source": [
    "#### Exploratory Data Analysis"
   ]
  },
  {
   "cell_type": "markdown",
   "metadata": {},
   "source": [
    "##### Dataset Summary"
   ]
  },
  {
   "cell_type": "code",
   "execution_count": 3,
   "metadata": {},
   "outputs": [
    {
     "name": "stdout",
     "output_type": "stream",
     "text": [
      "Dataset's shape: (742, 20)\n",
      "\n",
      "Dataset Description:\n",
      "       Unnamed: 0      hourly  employer_provided  min_salary  max_salary  \\\n",
      "count  742.000000  742.000000         742.000000  742.000000  742.000000   \n",
      "mean   370.500000    0.032345           0.022911   74.719677  128.149596   \n",
      "std    214.341239    0.177034           0.149721   30.980593   45.220324   \n",
      "min      0.000000    0.000000           0.000000   15.000000   16.000000   \n",
      "25%    185.250000    0.000000           0.000000   52.000000   96.000000   \n",
      "50%    370.500000    0.000000           0.000000   69.500000  124.000000   \n",
      "75%    555.750000    0.000000           0.000000   91.000000  155.000000   \n",
      "max    741.000000    1.000000           1.000000  202.000000  306.000000   \n",
      "\n",
      "       avg_salary   python_yn        R_yn       spark         aws       excel  \n",
      "count  742.000000  742.000000  742.000000  742.000000  742.000000  742.000000  \n",
      "mean   100.626011    0.528302    0.002695    0.225067    0.237197    0.522911  \n",
      "std     38.855948    0.499535    0.051882    0.417908    0.425651    0.499812  \n",
      "min     13.500000    0.000000    0.000000    0.000000    0.000000    0.000000  \n",
      "25%     73.500000    0.000000    0.000000    0.000000    0.000000    0.000000  \n",
      "50%     97.500000    1.000000    0.000000    0.000000    0.000000    1.000000  \n",
      "75%    122.500000    1.000000    0.000000    0.000000    0.000000    1.000000  \n",
      "max    254.000000    1.000000    1.000000    1.000000    1.000000    1.000000  \n",
      "\n",
      "Dataset info:\n",
      "<class 'pandas.core.frame.DataFrame'>\n",
      "RangeIndex: 742 entries, 0 to 741\n",
      "Data columns (total 20 columns):\n",
      " #   Column             Non-Null Count  Dtype  \n",
      "---  ------             --------------  -----  \n",
      " 0   Unnamed: 0         742 non-null    int64  \n",
      " 1   Job Title          742 non-null    object \n",
      " 2   Location           742 non-null    object \n",
      " 3   Size               742 non-null    object \n",
      " 4   Type of ownership  742 non-null    object \n",
      " 5   Industry           742 non-null    object \n",
      " 6   Sector             742 non-null    object \n",
      " 7   hourly             742 non-null    int64  \n",
      " 8   employer_provided  742 non-null    int64  \n",
      " 9   min_salary         742 non-null    int64  \n",
      " 10  max_salary         742 non-null    int64  \n",
      " 11  avg_salary         742 non-null    float64\n",
      " 12  job_state          742 non-null    object \n",
      " 13  python_yn          742 non-null    int64  \n",
      " 14  R_yn               742 non-null    int64  \n",
      " 15  spark              742 non-null    int64  \n",
      " 16  aws                742 non-null    int64  \n",
      " 17  excel              742 non-null    int64  \n",
      " 18  job_simp           742 non-null    object \n",
      " 19  seniority          742 non-null    object \n",
      "dtypes: float64(1), int64(10), object(9)\n",
      "memory usage: 116.1+ KB\n",
      "None\n",
      "\n",
      "Number of categorical columns: 9\n",
      "Number of numerical columns: 11\n"
     ]
    }
   ],
   "source": [
    "# display the dataset's shape\n",
    "print(f\"Dataset's shape: {salary_df.shape}\\n\")\n",
    "\n",
    "# display the summary of the dataset\n",
    "print(\"Dataset Description:\")\n",
    "print(salary_df.describe())\n",
    "\n",
    "# display the information - column data types - of the dataset\n",
    "print(\"\\nDataset info:\")\n",
    "print(salary_df.info())\n",
    "\n",
    "# display the number of categorical and numerical columns\n",
    "num_categorical = salary_df.select_dtypes(include='object').shape[1]\n",
    "num_numerical = salary_df.select_dtypes(include=['int64', 'float64']).shape[1]\n",
    "print(f\"\\nNumber of categorical columns: {num_categorical}\")\n",
    "print(f\"Number of numerical columns: {num_numerical}\")\n"
   ]
  },
  {
   "cell_type": "markdown",
   "metadata": {},
   "source": [
    "**Observations from the results:**\n",
    "1. The dataset contains 742 rows and 20 columns, with the first column serving as the unique identifier for each row.\n",
    "2. There are 9 categorical columns and 11 numerical columns.\n",
    "3. The target variable is the `avg_salary` column, which is a numerical column.\n",
    "4. Some columns are indicated as `numeric`, but they are `boolean` columns. These columns are `python`, `r`, `spark`, `aws`, `excel`, `job_simp`, `seniority`, `desc_len`, `num_comp`. They indicate whether the skill is required or not."
   ]
  },
  {
   "cell_type": "markdown",
   "metadata": {},
   "source": [
    "##### Dataset Quality Assessment"
   ]
  },
  {
   "cell_type": "code",
   "execution_count": 4,
   "metadata": {},
   "outputs": [
    {
     "name": "stdout",
     "output_type": "stream",
     "text": [
      "Dataset Missing values count:\n",
      "Unnamed: 0           0\n",
      "Job Title            0\n",
      "Location             0\n",
      "Size                 0\n",
      "Type of ownership    0\n",
      "Industry             0\n",
      "Sector               0\n",
      "hourly               0\n",
      "employer_provided    0\n",
      "min_salary           0\n",
      "max_salary           0\n",
      "avg_salary           0\n",
      "job_state            0\n",
      "python_yn            0\n",
      "R_yn                 0\n",
      "spark                0\n",
      "aws                  0\n",
      "excel                0\n",
      "job_simp             0\n",
      "seniority            0\n",
      "dtype: int64\n",
      "Dataset Duplicates count:\n",
      "Unnamed: 0           0\n",
      "Job Title            0\n",
      "Location             0\n",
      "Size                 0\n",
      "Type of ownership    0\n",
      "Industry             0\n",
      "Sector               0\n",
      "hourly               0\n",
      "employer_provided    0\n",
      "min_salary           0\n",
      "max_salary           0\n",
      "avg_salary           0\n",
      "job_state            0\n",
      "python_yn            0\n",
      "R_yn                 0\n",
      "spark                0\n",
      "aws                  0\n",
      "excel                0\n",
      "job_simp             0\n",
      "seniority            0\n",
      "dtype: int64\n"
     ]
    }
   ],
   "source": [
    "# check for missing values\n",
    "missing_values = salary_df.isna().sum()\n",
    "print(f\"Dataset Missing values count:\")\n",
    "print(missing_values)\n",
    "\n",
    "# check for duplicates\n",
    "duplicates = salary_df[salary_df.duplicated()].count()\n",
    "print(f\"Dataset Duplicates count:\")\n",
    "print(duplicates)"
   ]
  },
  {
   "cell_type": "markdown",
   "metadata": {},
   "source": [
    "##### Dataset Distribution"
   ]
  },
  {
   "cell_type": "code",
   "execution_count": 5,
   "metadata": {},
   "outputs": [
    {
     "name": "stdout",
     "output_type": "stream",
     "text": [
      "Unique values in 'Job Title' column: Data Scientist, Healthcare Data Scientist, Research Scientist, Staff Data Scientist - Technology, Data Analyst, Data Engineer I, Scientist I/II, Biology, Customer Data Scientist, Data Scientist - Health Data Analytics, Senior Data Scientist / Machine Learning, Data Scientist - Quantitative, Digital Health Data Scientist, Associate Data Analyst, Clinical Data Scientist, Data Scientist / Machine Learning Expert, Web Data Analyst, Senior Data Scientist, Data Engineer, Data Scientist - Algorithms & Inference, Scientist, Lead Data Scientist, Spectral Scientist/Engineer, College Hire - Data Scientist - Open to December 2019 Graduates, Data Scientist, Office of Data Science, Data Science Analyst, Senior Risk Data Scientist, Data Scientist in Artificial Intelligence Early Career, Data Scientist - Research, R&D Data Analysis Scientist, Analytics Consultant, Director, Data Science, Data Scientist SR, R&D Sr Data Scientist, Customer Data Scientist/Sales Engineer (Bay, Jr. Business Data Analyst, Data Management Specialist, E-Commerce Data Analyst, Sr. Scientist II, Insurance Data Scientist, Data Modeler, Data Analyst / Scientist, Data Scientist, Rice University, Financial Data Analyst, Senior Data Analyst, Ag Data Scientist, Data Scientist II, Senior Data Engineer, Project Scientist, Data Analytics Manager, Senior Machine Learning (ML) Engineer / Data Scientist - Cyber Security Analytics, Associate Scientist, Scientist 2, QC Viral Vector, Machine Learning Engineer, Data Scientist/ML Engineer, Sr. Data Scientist, Data Engineer 4 - Contract, Data Analyst - Asset Management, Senior Research Scientist - Embedded System Development for DevOps, Data Scientist - Bioinformatics, Customer Data Scientist/Sales Engineer, MongoDB Data Engineer II, Senior Data Scientist Statistics, Senior Spark Engineer (Data Science), BI & Platform Analytics Manager, Sr. Data Scientist - Analytics, Personalized Healthcare (PHC), Pricipal Scientist Molecular and cellular biologist, Data Scientist (Actuary, FSA or ASA), Staff Data Scientist, Data Engineer 5 - Contract (Remote), Senior Scientist - Neuroscience, Medical Lab Scientist, Risk and Analytics IT, Data Scientist, Scientist, Analytical Development, Analytics Manager, Digital Marketing & ECommerce Data Analyst, Sr. Scientist - Digital & Image Analysis/Computational Pathology, Principal Scientist - Immunologist, Principal Data Scientist with over 10 years experience, MED TECH/LAB SCIENTIST - LABORATORY, Sr. Scientist, Quantitative Translational Sciences, Sr. Data Scientist II, Excel / VBA / SQL Data Analyst, Machine Learning Research Scientist, VP, Data Science, Radar Data Analyst, PL Actuarial-Lead Data Scientist, PV Scientist, Senior Data & Machine Learning Scientist, Principal Data Scientist (Computational Chemistry), Principal Scientist, Chemistry & Immunology, Software Engineer - Data Visualization, Scientist/Senior Scientist, Autoimmune, Staff Machine Learning Engineer, Principal Scientist, Hematology, Lead Data Engineer, Marketing Data Analyst, Medical Laboratory Scientist, R&D Specialist/ Food Scientist, Senior Research Scientist-Machine Learning, Analytics Manager - Data Mart, Sr. Data Engineer - Contract-to-Hire (Java), MED TECH/LAB SCIENTIST- SOUTH COASTAL LAB, Food Scientist - Developer, Staff Scientist-Downstream Process Development, Sr. Data Engineer, Senior Research Statistician- Data Scientist, Business Data Analyst, SQL, Medical Technologist / Clinical Laboratory Scientist, Associate Data Scientist/Computer Scientist, Business Intelligence Analyst / Developer, System and Data Analyst, Data & Analytics Consultant (NYC), Big Data Engineer - Chicago - Future Opportunity, Survey Data Analyst, Lead Health Data Analyst - Front End, Junior Data Analyst, SQL Data Engineer, Sr. Data Scientist, Cyber-Security LT Contract, Insurance Financial Data Analyst, Data Engineer I - Azure, Information Security Data Analyst, Data Scientist, Senior, CONSULTANT– DATA ANALYTICS GROUP, Data Engineer, Data Engineering and Artifical Intelligence, Staff Scientist, Associate Scientist/Scientist, Process Analytical Technology - Small Molecule Analytical Chemistry, Sr. Data Analyst, Program/Data Analyst, Senior Data Scientist: Causal & Predictive analytics AI Innovation Lab, Principal Data Engineer, Data Platform & Insights, RESEARCH SCIENTIST - BIOLOGICAL SAFETY, Data Operations Lead, Big Data Engineer, Clinical Data Analyst, Computational Chemist/Data Scientist, Product Engineer – Data Science, Market Data Analyst, Staff Data Engineer, Associate Data Engineer, Staff BI and Data Engineer, Director - Data, Privacy and AI Governance, Scientist Manufacturing - Kentucky BioProcessing, Data Analytics Project Manager, Consultant - Analytics Consulting, Senior Scientist (Neuroscience), Machine Learning Engineer - Regulatory, Scientist, Bacteriology, Associate Director, Platform and DevOps- Data Engineering and Aritifical Intelligence, Clinical Laboratory Scientist, Senior Data Scientist - R&D Oncology, Director II, Data Science - GRM Actuarial, Scientist, Molecular/Cellular Biologist, Scientist - Analytical Services, Associate Data Analyst- Graduate Development Program, Senior Insurance Data Scientist, Senior Data Science Systems Engineer, ENVIRONMENTAL ENGINEER/SCIENTIST, Senior Scientist - Regulatory Submissions, Scientist - Biomarker and Flow Cytometry, Revenue Analytics Manager, Associate Scientist, LC/MS Biologics, Sr. Scientist Method Development, IT - Data Engineer II, Research Scientist, Immunology - Cancer Biology, Project Scientist - Auton Lab, Robotics Institute, Enterprise Architect, Data, Senior Manager, Epidemiologic Data Scientist, Corporate Risk Data Analyst (SQL Based) - Milwaukee or, Marketing Data Analyst, May 2020 Undergrad, Data Modeler - Data Solutions Engineer, Associate Environmental Scientist - Wildlife Biologist, Associate, Data Science, Internal Audit, Sr Data Engineer (Sr BI Developer), Senior LiDAR Data Scientist, Salesforce Analytics Consultant, Technology-Minded, Data Professional Opportunities, Managing Data Scientist/ML Engineer, Scientist, Pharmacometrics, Staff Scientist- Upstream PD, Scientist Manufacturing Pharma - Kentucky BioProcessing, Lead Big Data Engineer, Product Engineer – Spatial Data Science and Statistical Analysis, Sr Software Engineer (Data Scientist), Sr. Data Engineer (ETL Developer), Senior Data Scientist Artificial Intelligence, Analytics - Business Assurance Data Analyst, Associate Director/Director, Safety Scientist, Senior Scientist, Cell Pharmacology/Assay Development, Data Analyst Senior, Lead Data Engineer (Python), Senior Data Scientist 4 Artificial Intelligence, Medical Lab Scientist - MLT, Senior Operations Data Analyst, Call Center Operations, Director II, Data Science - GRS Predictive Analytics, RESEARCH COMPUTER SCIENTIST - RESEARCH ENGINEER - SR. COMPUTER SCIENTIST - SOFTWARE DEVELOPMENT, Geospatial Software Developer and Data Scientist, Senior Scientist - Toxicologist - Product Integrity (Stewardship), Systems Engineer II - Data Analyst, Senior Research Analytical Scientist-Non-Targeted Analysis, Director Data Science, Sr Data Analyst - IT, Associate Machine Learning Engineer / Data Scientist May 2020 Undergrad, Senior Scientist - Biostatistician, Principal Machine Learning Scientist, Data Analyst, Performance Partnership, Data Scientist Manager, Software Data Engineer - College, Senior Data Scientist - Algorithms, Senior Data Scientist Oncology, Principal Data Scientist, Data Scientist - Alpha Insights, Associate Principal Scientist, Pharmacogenomics, Data Scientist - Systems Engineering, Data Engineer - Consultant (Charlotte Based), Data Analyst 1, full-time contract worker for up to 12 months, Scientist, Immuno-Oncology, Products Data Analyst II, Lead Data Analyst, Data Science Engineer - Mobile, Sr Expert Data Science, Advanced Visual Analytics (Associate level), IT Associate Data Analyst, Business Data Analyst, Data Scientist - Sales, Principal, Data Science - Advanced Analytics, Data Science Project Manager, Sr Scientist, Immuno-Oncology - Oncology, Research Scientist – Security and Privacy, Data Science Manager, Data Analyst 2 (Missionary Department), Supply Chain Data Analyst, Data Engineer - ETL, Data Modeler (Analytical Systems), Data Scientist in Translational Medicine, Product Manager/Data Evangelist, Senior Data Scientist – Visualization, Novartis AI Innovation Lab, Senior Data Analyst/Scientist, Scientist – Cancer Discovery, Molecular Assay, Data Engineering Analyst, Manager of Data Science, Software Engineer (Data Scientist/Software Engineer) - SISW - MG, Associate Research Scientist I (Protein Expression and Production), Director, Precision Medicine Clinical Biomarker Scientist, Senior Formulations Scientist II, Senior Quantitative Analyst, Research Scientist or Senior Research Scientist - Computer Vision, Data Analyst Chemist - Quality System Contractor, Research Scientist / Principal Research Scientist - Multiphysical Systems, Research Scientist, Machine Learning Department, Foundational Community Supports Data Analyst, Senior Health Data Analyst, Star Ratings, Principal Research Scientist/Team Lead, Medicinal Chemistry - Oncology, Senior Engineer, Data Management Engineering, Quality Control Scientist III- Analytical Development, Clinical Scientist, Clinical Development, Software Engineer Staff Scientist: Human Language Technologies, Manager, Safety Scientist, Medical Safety & Risk Management, Assistant Director/Director, Office of Data Science, Sr. Data Engineer | Big Data SaaS Pipeline, Scientist - CVRM Metabolism - in vivo pharmacology, Data Scientist (Warehouse Automation), Jr. Data Scientist, Data Architect / Data Modeler, Associate Scientist / Sr. Associate Scientist, Antibody Discovery, Machine Learning Engineer (NLP)\n",
      "Unique values in 'Location' column: Albuquerque, NM, Linthicum, MD, Clearwater, FL, Richland, WA, New York, NY, Dallas, TX, Baltimore, MD, San Jose, CA, Rochester, NY, Chantilly, VA, Plano, TX, Seattle, WA, Cambridge, MA, Newark, NJ, Mountain View, CA, San Francisco, CA, Denver, CO, Chicago, IL, Louisville, KY, Herndon, VA, Hillsboro, OR, Worcester, MA, Groton, CT, Detroit, MI, Sunnyvale, CA, Ipswich, MA, Redlands, CA, Woburn, MA, Fremont, CA, Long Beach, NY, Marlborough, MA, Allendale, NJ, Washington, DC, Bellevue, WA, Longmont, CO, Beavercreek, OH, Peoria, IL, Fort Lauderdale, FL, Boston, MA, Huntsville, AL, Armonk, NY, San Diego, CA, Saint Louis, MO, Cincinnati, OH, Palo Alto, CA, Coraopolis, PA, Framingham, MA, Atlanta, GA, Philadelphia, PA, Vancouver, WA, Indianapolis, IN, Lake Forest, IL, Maryland Heights, MO, Charlottesville, VA, Pittsburgh, PA, Harrisburg, PA, Laurel, MD, Arlington, VA, Tacoma, WA, Miami, FL, New Orleans, LA, Landover, MD, Patuxent River, MD, Suitland, MD, McLean, VA, Fort Belvoir, VA, Milwaukee, WI, Silver Spring, MD, Syracuse, NY, Houston, TX, Charlotte, NC, Southfield, MI, Matawan, NJ, Phoenix, AZ, Omaha, NE, Lyndhurst, NJ, Atlanta, IN, Rockville, MD, Minneapolis, MN, Los Angeles, CA, Alabaster, AL, Santa Fe Springs, Los Angeles, CA, Kansas City, MO, Ashburn, VA, Fort Worth, TX, Valencia, CA, Novato, CA, Aurora, CO, Tampa, FL, Riverton, UT, Chattanooga, TN, Ewing, NJ, South San Francisco, CA, Cupertino, CA, Frederick, MD, West Reading, PA, Madison, WI, Dearborn, MI, Winter Park, FL, San Rafael, CA, Hamilton, NJ, Woodbridge, NJ, Lewes, DE, Springfield, MO, Burbank, CA, Newton, MA, Salt Lake City, UT, Lafayette, LA, Annapolis Junction, MD, Highland, CA, Burleson, TX, Hoopeston, IL, Scotts Valley, CA, Knoxville, TN, Millville, DE, Sheboygan, WI, San Mateo, CA, Dayton, OH, Parlier, CA, Meridian, ID, Cherry Hill, NJ, Nashville, TN, Portland, OR, Port Washington, NY, Austin, TX, Providence, RI, Raleigh, NC, Phila, PA, Oakland, CA, Boise, ID, Oak Ridge, TN, Agoura Hills, CA, Pella, IA, San Ramon, CA, Red Bank, NJ, Columbia, SC, Springfield, MA, San Antonio, TX, Portsmouth, VA, West Palm Beach, FL, Exton, PA, Alexandria, VA, Owensboro, KY, Hartford, CT, Orange, CA, Lenexa, KS, Concord, CA, Vail, CO, Natick, MA, Winston-Salem, NC, Richfield, OH, Hampton, VA, Ithaca, NY, Marietta, GA, Quincy, MA, Green Bay, WI, Durham, NC, Clovis, CA, Chandler, AZ, Orlando, FL, Columbia, MO, Westlake, OH, Des Moines, IA, Cedar Rapids, IA, Fort Lee, NJ, Blue Bell, PA, Springfield, VA, Jersey City, NJ, Emeryville, CA, Santa Barbara, CA, Carle Place, NY, King of Prussia, PA, Santa Clara, CA, Brisbane, CA, Foster City, CA, Holyoke, MA, Waltham, MA, Corvallis, OR, Gaithersburg, MD, Bedford, MA, Aliso Viejo, CA, Dublin, CA, Arvada, CO, Franklin, TN, Plymouth Meeting, PA, Allentown, PA, Logan, UT, Birmingham, AL, Reston, VA, Scottsdale, AZ, Bloomington, IL, Alameda, CA, Roanoke, VA, Glen Burnie, MD, Milpitas, CA, Watertown, MA, Cambridge, MD, Irvine, CA, Ann Arbor, MI, Olympia, WA\n",
      "Unique values in 'Size' column: 501 to 1000 employees, 10000+ employees, 1001 to 5000 employees, 51 to 200 employees, 201 to 500 employees, 5001 to 10000 employees, 1 to 50 employees, Unknown, -1\n",
      "Unique values in 'Type of ownership' column: Company - Private, Other Organization, Government, Company - Public, Hospital, Subsidiary or Business Segment, Nonprofit Organization, Unknown, College / University, School / School District, -1\n",
      "Unique values in 'Industry' column: Aerospace & Defense, Health Care Services & Hospitals, Security Services, Energy, Advertising & Marketing, Real Estate, Banks & Credit Unions, Consulting, Internet, Other Retail Stores, Research & Development, Department, Clothing, & Shoe Stores, Biotech & Pharmaceuticals, Motion Picture Production & Distribution, Enterprise Software & Network Solutions, Insurance Carriers, Insurance Agencies & Brokerages, Logistics & Supply Chain, Telecommunications Services, IT Services, Computer Hardware & Software, -1, Consumer Products Manufacturing, Industrial Manufacturing, Metals Brokers, Financial Transaction Processing, Sporting Goods Stores, Staffing & Outsourcing, Wholesale, Mining, Financial Analytics & Research, Federal Agencies, Education Training Services, Transportation Equipment Manufacturing, Farm Support Services, TV Broadcast & Cable Networks, Architectural & Engineering Services, Brokerage Services, Travel Agencies, Religious Organizations, Colleges & Universities, Investment Banking & Asset Management, Lending, Gambling, Food & Beverage Manufacturing, Gas Stations, Transportation Management, Video Games, Trucking, Social Assistance, Auctions & Galleries, K-12 Education, Telecommunications Manufacturing, Stock Exchanges, Construction, Accounting, Health Care Products Manufacturing, Health, Beauty, & Fitness, Consumer Product Rental, Beauty & Personal Accessories Stores\n",
      "Unique values in 'Sector' column: Aerospace & Defense, Health Care, Business Services, Oil, Gas, Energy & Utilities, Real Estate, Finance, Information Technology, Retail, Biotech & Pharmaceuticals, Media, Insurance, Transportation & Logistics, Telecommunications, -1, Manufacturing, Mining & Metals, Government, Education, Agriculture & Forestry, Travel & Tourism, Non-Profit, Arts, Entertainment & Recreation, Construction, Repair & Maintenance, Accounting & Legal, Consumer Services\n",
      "Unique values in 'hourly' column: 0, 1\n",
      "Unique values in 'employer_provided' column: 0, 1\n",
      "Unique values in 'job_state' column: NM, MD, FL, WA, NY, TX, CA, VA, MA, NJ, CO, IL, KY, OR, CT, MI, DC, OH, AL, MO, PA, GA, IN, LA, WI, NC, AZ, NE, MN, UT, TN, DE, ID, RI, IA, SC, KS\n",
      "Unique values in 'python_yn' column: 1, 0\n",
      "Unique values in 'R_yn' column: 0, 1\n",
      "Unique values in 'spark' column: 0, 1\n",
      "Unique values in 'aws' column: 0, 1\n",
      "Unique values in 'excel' column: 1, 0\n",
      "Unique values in 'job_simp' column: data scientist, na, analyst, data engineer, director, manager, mle\n",
      "Unique values in 'seniority' column: na, senior, jr\n"
     ]
    }
   ],
   "source": [
    "# function to display the unique values in all columns\n",
    "def check_unique_values(dataframe: pd.DataFrame):\n",
    "    \"\"\"display the unique values in categorical columns and columns with less than 10 unique values\n",
    "\n",
    "        :Input:\n",
    "            dataframe: a python pandas dataframe\n",
    "\n",
    "        :Output:\n",
    "            unique values in the dataframe\n",
    "\n",
    "        >>> check_unique_values(salary_prediction_dataframe)\n",
    "        Unique values in 'spark' column: False, True\n",
    "        \"\"\"\n",
    "    \n",
    "    # Iterate over each column in the DataFrame\n",
    "    column_list = []\n",
    "\n",
    "    index = 0\n",
    "    for column in dataframe.columns:\n",
    "        if dataframe[column].dtype == 'object' or len(dataframe[column].unique()) < 10:\n",
    "            unique_values = dataframe[column].unique()\n",
    "            unique_values_str = [str(value) for value in unique_values]\n",
    "            print(\n",
    "                f\"Unique values in '{column}' column: {', '.join(unique_values_str)}\")\n",
    "            column_list.append(index)\n",
    "            index += 1\n",
    "\n",
    "    # return column_list\n",
    "\n",
    "\n",
    "check_unique_values(salary_df)\n",
    "\n",
    "# This helps identify the categorical and boolean columns"
   ]
  },
  {
   "cell_type": "code",
   "execution_count": 6,
   "metadata": {},
   "outputs": [],
   "source": [
    "# set the boolean columns\n",
    "boolean_columns = ['hourly', 'employer_provided', 'python_yn', 'R_yn', 'spark', 'aws', 'excel']"
   ]
  },
  {
   "cell_type": "code",
   "execution_count": 7,
   "metadata": {},
   "outputs": [
    {
     "data": {
      "application/vnd.plotly.v1+json": {
       "config": {
        "plotlyServerURL": "https://plot.ly"
       },
       "data": [
        {
         "coloraxis": "coloraxis",
         "hovertemplate": "x: %{x}<br>y: %{y}<br>color: %{z}<extra></extra>",
         "name": "0",
         "texttemplate": "%{z}",
         "type": "heatmap",
         "x": [
          "Unnamed: 0",
          "avg_salary",
          "max_salary",
          "min_salary"
         ],
         "xaxis": "x",
         "y": [
          "Unnamed: 0",
          "avg_salary",
          "max_salary",
          "min_salary"
         ],
         "yaxis": "y",
         "z": [
          [
           1,
           -0.0417647664729588,
           -0.027820506786868267,
           -0.04646898965050798
          ],
          [
           -0.0417647664729588,
           1,
           0.9868623087771531,
           0.9677651676223642
          ],
          [
           -0.027820506786868267,
           0.9868623087771531,
           1,
           0.9401355177390585
          ],
          [
           -0.04646898965050798,
           0.9677651676223642,
           0.9401355177390585,
           1
          ]
         ]
        }
       ],
       "layout": {
        "coloraxis": {
         "colorscale": [
          [
           0,
           "#0d0887"
          ],
          [
           0.1111111111111111,
           "#46039f"
          ],
          [
           0.2222222222222222,
           "#7201a8"
          ],
          [
           0.3333333333333333,
           "#9c179e"
          ],
          [
           0.4444444444444444,
           "#bd3786"
          ],
          [
           0.5555555555555556,
           "#d8576b"
          ],
          [
           0.6666666666666666,
           "#ed7953"
          ],
          [
           0.7777777777777778,
           "#fb9f3a"
          ],
          [
           0.8888888888888888,
           "#fdca26"
          ],
          [
           1,
           "#f0f921"
          ]
         ]
        },
        "height": 600,
        "margin": {
         "t": 60
        },
        "template": {
         "data": {
          "bar": [
           {
            "error_x": {
             "color": "#2a3f5f"
            },
            "error_y": {
             "color": "#2a3f5f"
            },
            "marker": {
             "line": {
              "color": "#E5ECF6",
              "width": 0.5
             },
             "pattern": {
              "fillmode": "overlay",
              "size": 10,
              "solidity": 0.2
             }
            },
            "type": "bar"
           }
          ],
          "barpolar": [
           {
            "marker": {
             "line": {
              "color": "#E5ECF6",
              "width": 0.5
             },
             "pattern": {
              "fillmode": "overlay",
              "size": 10,
              "solidity": 0.2
             }
            },
            "type": "barpolar"
           }
          ],
          "carpet": [
           {
            "aaxis": {
             "endlinecolor": "#2a3f5f",
             "gridcolor": "white",
             "linecolor": "white",
             "minorgridcolor": "white",
             "startlinecolor": "#2a3f5f"
            },
            "baxis": {
             "endlinecolor": "#2a3f5f",
             "gridcolor": "white",
             "linecolor": "white",
             "minorgridcolor": "white",
             "startlinecolor": "#2a3f5f"
            },
            "type": "carpet"
           }
          ],
          "choropleth": [
           {
            "colorbar": {
             "outlinewidth": 0,
             "ticks": ""
            },
            "type": "choropleth"
           }
          ],
          "contour": [
           {
            "colorbar": {
             "outlinewidth": 0,
             "ticks": ""
            },
            "colorscale": [
             [
              0,
              "#0d0887"
             ],
             [
              0.1111111111111111,
              "#46039f"
             ],
             [
              0.2222222222222222,
              "#7201a8"
             ],
             [
              0.3333333333333333,
              "#9c179e"
             ],
             [
              0.4444444444444444,
              "#bd3786"
             ],
             [
              0.5555555555555556,
              "#d8576b"
             ],
             [
              0.6666666666666666,
              "#ed7953"
             ],
             [
              0.7777777777777778,
              "#fb9f3a"
             ],
             [
              0.8888888888888888,
              "#fdca26"
             ],
             [
              1,
              "#f0f921"
             ]
            ],
            "type": "contour"
           }
          ],
          "contourcarpet": [
           {
            "colorbar": {
             "outlinewidth": 0,
             "ticks": ""
            },
            "type": "contourcarpet"
           }
          ],
          "heatmap": [
           {
            "colorbar": {
             "outlinewidth": 0,
             "ticks": ""
            },
            "colorscale": [
             [
              0,
              "#0d0887"
             ],
             [
              0.1111111111111111,
              "#46039f"
             ],
             [
              0.2222222222222222,
              "#7201a8"
             ],
             [
              0.3333333333333333,
              "#9c179e"
             ],
             [
              0.4444444444444444,
              "#bd3786"
             ],
             [
              0.5555555555555556,
              "#d8576b"
             ],
             [
              0.6666666666666666,
              "#ed7953"
             ],
             [
              0.7777777777777778,
              "#fb9f3a"
             ],
             [
              0.8888888888888888,
              "#fdca26"
             ],
             [
              1,
              "#f0f921"
             ]
            ],
            "type": "heatmap"
           }
          ],
          "heatmapgl": [
           {
            "colorbar": {
             "outlinewidth": 0,
             "ticks": ""
            },
            "colorscale": [
             [
              0,
              "#0d0887"
             ],
             [
              0.1111111111111111,
              "#46039f"
             ],
             [
              0.2222222222222222,
              "#7201a8"
             ],
             [
              0.3333333333333333,
              "#9c179e"
             ],
             [
              0.4444444444444444,
              "#bd3786"
             ],
             [
              0.5555555555555556,
              "#d8576b"
             ],
             [
              0.6666666666666666,
              "#ed7953"
             ],
             [
              0.7777777777777778,
              "#fb9f3a"
             ],
             [
              0.8888888888888888,
              "#fdca26"
             ],
             [
              1,
              "#f0f921"
             ]
            ],
            "type": "heatmapgl"
           }
          ],
          "histogram": [
           {
            "marker": {
             "pattern": {
              "fillmode": "overlay",
              "size": 10,
              "solidity": 0.2
             }
            },
            "type": "histogram"
           }
          ],
          "histogram2d": [
           {
            "colorbar": {
             "outlinewidth": 0,
             "ticks": ""
            },
            "colorscale": [
             [
              0,
              "#0d0887"
             ],
             [
              0.1111111111111111,
              "#46039f"
             ],
             [
              0.2222222222222222,
              "#7201a8"
             ],
             [
              0.3333333333333333,
              "#9c179e"
             ],
             [
              0.4444444444444444,
              "#bd3786"
             ],
             [
              0.5555555555555556,
              "#d8576b"
             ],
             [
              0.6666666666666666,
              "#ed7953"
             ],
             [
              0.7777777777777778,
              "#fb9f3a"
             ],
             [
              0.8888888888888888,
              "#fdca26"
             ],
             [
              1,
              "#f0f921"
             ]
            ],
            "type": "histogram2d"
           }
          ],
          "histogram2dcontour": [
           {
            "colorbar": {
             "outlinewidth": 0,
             "ticks": ""
            },
            "colorscale": [
             [
              0,
              "#0d0887"
             ],
             [
              0.1111111111111111,
              "#46039f"
             ],
             [
              0.2222222222222222,
              "#7201a8"
             ],
             [
              0.3333333333333333,
              "#9c179e"
             ],
             [
              0.4444444444444444,
              "#bd3786"
             ],
             [
              0.5555555555555556,
              "#d8576b"
             ],
             [
              0.6666666666666666,
              "#ed7953"
             ],
             [
              0.7777777777777778,
              "#fb9f3a"
             ],
             [
              0.8888888888888888,
              "#fdca26"
             ],
             [
              1,
              "#f0f921"
             ]
            ],
            "type": "histogram2dcontour"
           }
          ],
          "mesh3d": [
           {
            "colorbar": {
             "outlinewidth": 0,
             "ticks": ""
            },
            "type": "mesh3d"
           }
          ],
          "parcoords": [
           {
            "line": {
             "colorbar": {
              "outlinewidth": 0,
              "ticks": ""
             }
            },
            "type": "parcoords"
           }
          ],
          "pie": [
           {
            "automargin": true,
            "type": "pie"
           }
          ],
          "scatter": [
           {
            "fillpattern": {
             "fillmode": "overlay",
             "size": 10,
             "solidity": 0.2
            },
            "type": "scatter"
           }
          ],
          "scatter3d": [
           {
            "line": {
             "colorbar": {
              "outlinewidth": 0,
              "ticks": ""
             }
            },
            "marker": {
             "colorbar": {
              "outlinewidth": 0,
              "ticks": ""
             }
            },
            "type": "scatter3d"
           }
          ],
          "scattercarpet": [
           {
            "marker": {
             "colorbar": {
              "outlinewidth": 0,
              "ticks": ""
             }
            },
            "type": "scattercarpet"
           }
          ],
          "scattergeo": [
           {
            "marker": {
             "colorbar": {
              "outlinewidth": 0,
              "ticks": ""
             }
            },
            "type": "scattergeo"
           }
          ],
          "scattergl": [
           {
            "marker": {
             "colorbar": {
              "outlinewidth": 0,
              "ticks": ""
             }
            },
            "type": "scattergl"
           }
          ],
          "scattermapbox": [
           {
            "marker": {
             "colorbar": {
              "outlinewidth": 0,
              "ticks": ""
             }
            },
            "type": "scattermapbox"
           }
          ],
          "scatterpolar": [
           {
            "marker": {
             "colorbar": {
              "outlinewidth": 0,
              "ticks": ""
             }
            },
            "type": "scatterpolar"
           }
          ],
          "scatterpolargl": [
           {
            "marker": {
             "colorbar": {
              "outlinewidth": 0,
              "ticks": ""
             }
            },
            "type": "scatterpolargl"
           }
          ],
          "scatterternary": [
           {
            "marker": {
             "colorbar": {
              "outlinewidth": 0,
              "ticks": ""
             }
            },
            "type": "scatterternary"
           }
          ],
          "surface": [
           {
            "colorbar": {
             "outlinewidth": 0,
             "ticks": ""
            },
            "colorscale": [
             [
              0,
              "#0d0887"
             ],
             [
              0.1111111111111111,
              "#46039f"
             ],
             [
              0.2222222222222222,
              "#7201a8"
             ],
             [
              0.3333333333333333,
              "#9c179e"
             ],
             [
              0.4444444444444444,
              "#bd3786"
             ],
             [
              0.5555555555555556,
              "#d8576b"
             ],
             [
              0.6666666666666666,
              "#ed7953"
             ],
             [
              0.7777777777777778,
              "#fb9f3a"
             ],
             [
              0.8888888888888888,
              "#fdca26"
             ],
             [
              1,
              "#f0f921"
             ]
            ],
            "type": "surface"
           }
          ],
          "table": [
           {
            "cells": {
             "fill": {
              "color": "#EBF0F8"
             },
             "line": {
              "color": "white"
             }
            },
            "header": {
             "fill": {
              "color": "#C8D4E3"
             },
             "line": {
              "color": "white"
             }
            },
            "type": "table"
           }
          ]
         },
         "layout": {
          "annotationdefaults": {
           "arrowcolor": "#2a3f5f",
           "arrowhead": 0,
           "arrowwidth": 1
          },
          "autotypenumbers": "strict",
          "coloraxis": {
           "colorbar": {
            "outlinewidth": 0,
            "ticks": ""
           }
          },
          "colorscale": {
           "diverging": [
            [
             0,
             "#8e0152"
            ],
            [
             0.1,
             "#c51b7d"
            ],
            [
             0.2,
             "#de77ae"
            ],
            [
             0.3,
             "#f1b6da"
            ],
            [
             0.4,
             "#fde0ef"
            ],
            [
             0.5,
             "#f7f7f7"
            ],
            [
             0.6,
             "#e6f5d0"
            ],
            [
             0.7,
             "#b8e186"
            ],
            [
             0.8,
             "#7fbc41"
            ],
            [
             0.9,
             "#4d9221"
            ],
            [
             1,
             "#276419"
            ]
           ],
           "sequential": [
            [
             0,
             "#0d0887"
            ],
            [
             0.1111111111111111,
             "#46039f"
            ],
            [
             0.2222222222222222,
             "#7201a8"
            ],
            [
             0.3333333333333333,
             "#9c179e"
            ],
            [
             0.4444444444444444,
             "#bd3786"
            ],
            [
             0.5555555555555556,
             "#d8576b"
            ],
            [
             0.6666666666666666,
             "#ed7953"
            ],
            [
             0.7777777777777778,
             "#fb9f3a"
            ],
            [
             0.8888888888888888,
             "#fdca26"
            ],
            [
             1,
             "#f0f921"
            ]
           ],
           "sequentialminus": [
            [
             0,
             "#0d0887"
            ],
            [
             0.1111111111111111,
             "#46039f"
            ],
            [
             0.2222222222222222,
             "#7201a8"
            ],
            [
             0.3333333333333333,
             "#9c179e"
            ],
            [
             0.4444444444444444,
             "#bd3786"
            ],
            [
             0.5555555555555556,
             "#d8576b"
            ],
            [
             0.6666666666666666,
             "#ed7953"
            ],
            [
             0.7777777777777778,
             "#fb9f3a"
            ],
            [
             0.8888888888888888,
             "#fdca26"
            ],
            [
             1,
             "#f0f921"
            ]
           ]
          },
          "colorway": [
           "#636efa",
           "#EF553B",
           "#00cc96",
           "#ab63fa",
           "#FFA15A",
           "#19d3f3",
           "#FF6692",
           "#B6E880",
           "#FF97FF",
           "#FECB52"
          ],
          "font": {
           "color": "#2a3f5f"
          },
          "geo": {
           "bgcolor": "white",
           "lakecolor": "white",
           "landcolor": "#E5ECF6",
           "showlakes": true,
           "showland": true,
           "subunitcolor": "white"
          },
          "hoverlabel": {
           "align": "left"
          },
          "hovermode": "closest",
          "mapbox": {
           "style": "light"
          },
          "paper_bgcolor": "white",
          "plot_bgcolor": "#E5ECF6",
          "polar": {
           "angularaxis": {
            "gridcolor": "white",
            "linecolor": "white",
            "ticks": ""
           },
           "bgcolor": "#E5ECF6",
           "radialaxis": {
            "gridcolor": "white",
            "linecolor": "white",
            "ticks": ""
           }
          },
          "scene": {
           "xaxis": {
            "backgroundcolor": "#E5ECF6",
            "gridcolor": "white",
            "gridwidth": 2,
            "linecolor": "white",
            "showbackground": true,
            "ticks": "",
            "zerolinecolor": "white"
           },
           "yaxis": {
            "backgroundcolor": "#E5ECF6",
            "gridcolor": "white",
            "gridwidth": 2,
            "linecolor": "white",
            "showbackground": true,
            "ticks": "",
            "zerolinecolor": "white"
           },
           "zaxis": {
            "backgroundcolor": "#E5ECF6",
            "gridcolor": "white",
            "gridwidth": 2,
            "linecolor": "white",
            "showbackground": true,
            "ticks": "",
            "zerolinecolor": "white"
           }
          },
          "shapedefaults": {
           "line": {
            "color": "#2a3f5f"
           }
          },
          "ternary": {
           "aaxis": {
            "gridcolor": "white",
            "linecolor": "white",
            "ticks": ""
           },
           "baxis": {
            "gridcolor": "white",
            "linecolor": "white",
            "ticks": ""
           },
           "bgcolor": "#E5ECF6",
           "caxis": {
            "gridcolor": "white",
            "linecolor": "white",
            "ticks": ""
           }
          },
          "title": {
           "x": 0.05
          },
          "xaxis": {
           "automargin": true,
           "gridcolor": "white",
           "linecolor": "white",
           "ticks": "",
           "title": {
            "standoff": 15
           },
           "zerolinecolor": "white",
           "zerolinewidth": 2
          },
          "yaxis": {
           "automargin": true,
           "gridcolor": "white",
           "linecolor": "white",
           "ticks": "",
           "title": {
            "standoff": 15
           },
           "zerolinecolor": "white",
           "zerolinewidth": 2
          }
         }
        },
        "width": 800,
        "xaxis": {
         "anchor": "y",
         "constrain": "domain",
         "domain": [
          0,
          1
         ],
         "scaleanchor": "y"
        },
        "yaxis": {
         "anchor": "x",
         "autorange": "reversed",
         "constrain": "domain",
         "domain": [
          0,
          1
         ]
        }
       }
      }
     },
     "metadata": {},
     "output_type": "display_data"
    }
   ],
   "source": [
    "# display correlation heatmaps for the numerical columns\n",
    "numerical_columns = salary_df.select_dtypes(include=['int64', 'float64']).columns\n",
    "\n",
    "# exclude the boolean columns\n",
    "numerical_columns = numerical_columns.difference(boolean_columns)\n",
    "\n",
    "correlation_matrix = salary_df[numerical_columns].corr()\n",
    "\n",
    "fig = px.imshow(correlation_matrix, text_auto=True, width=800, height=600)\n",
    "fig.show()\n",
    "\n",
    "# using matplotlib\n",
    "# plt.figure(figsize=(12, 8))\n",
    "# sns.heatmap(correlation_matrix)\n",
    "# plt.show()\n"
   ]
  },
  {
   "cell_type": "code",
   "execution_count": 8,
   "metadata": {},
   "outputs": [
    {
     "data": {
      "text/plain": [
       "seniority\n",
       "na        520\n",
       "senior    220\n",
       "jr          2\n",
       "Name: count, dtype: int64"
      ]
     },
     "execution_count": 8,
     "metadata": {},
     "output_type": "execute_result"
    }
   ],
   "source": [
    "# check the value counts for seniority\n",
    "salary_df['seniority'].value_counts()"
   ]
  },
  {
   "cell_type": "code",
   "execution_count": 9,
   "metadata": {},
   "outputs": [
    {
     "data": {
      "text/plain": [
       "job_simp\n",
       "data scientist    279\n",
       "na                184\n",
       "data engineer     119\n",
       "analyst           102\n",
       "manager            22\n",
       "mle                22\n",
       "director           14\n",
       "Name: count, dtype: int64"
      ]
     },
     "execution_count": 9,
     "metadata": {},
     "output_type": "execute_result"
    }
   ],
   "source": [
    "# check the value counts for the job_simp\n",
    "salary_df['job_simp'].value_counts()"
   ]
  },
  {
   "cell_type": "code",
   "execution_count": 10,
   "metadata": {},
   "outputs": [
    {
     "data": {
      "text/plain": [
       "Unnamed: 0           127\n",
       "Job Title            127\n",
       "Location             127\n",
       "Size                 127\n",
       "Type of ownership    127\n",
       "Industry             127\n",
       "Sector               127\n",
       "hourly               127\n",
       "employer_provided    127\n",
       "min_salary           127\n",
       "max_salary           127\n",
       "avg_salary           127\n",
       "job_state            127\n",
       "python_yn            127\n",
       "R_yn                 127\n",
       "spark                127\n",
       "aws                  127\n",
       "excel                127\n",
       "job_simp             127\n",
       "seniority            127\n",
       "dtype: int64"
      ]
     },
     "execution_count": 10,
     "metadata": {},
     "output_type": "execute_result"
    }
   ],
   "source": [
    "# display the count of values where their seniority is 'na' and the job simp is 'na'\n",
    "salary_df[(salary_df['seniority'] == 'na') & (salary_df['job_simp'] == 'na')].count()"
   ]
  },
  {
   "cell_type": "code",
   "execution_count": 11,
   "metadata": {},
   "outputs": [
    {
     "data": {
      "text/plain": [
       "Job Title                                           avg_salary\n",
       "Ag Data Scientist                                   80.5          1\n",
       "Analytics - Business Assurance Data Analyst         43.0          2\n",
       "Analytics Consultant                                66.5          1\n",
       "Analytics Manager                                   87.5          2\n",
       "Analytics Manager - Data Mart                       64.0          4\n",
       "                                                                 ..\n",
       "System and Data Analyst                             59.0          1\n",
       "Systems Engineer II - Data Analyst                  62.5          2\n",
       "Technology-Minded, Data Professional Opportunities  70.5          2\n",
       "VP, Data Science                                    124.5         2\n",
       "Web Data Analyst                                    106.0         1\n",
       "Name: count, Length: 432, dtype: int64"
      ]
     },
     "execution_count": 11,
     "metadata": {},
     "output_type": "execute_result"
    }
   ],
   "source": [
    "# check the average salary, grouping by the job title\n",
    "\n",
    "# first get the unique job titles\n",
    "# len(salary_df[\"Job Title\"].unique())\n",
    "# len(salary_df['job_simp'].unique())\n",
    "salary_df[\"avg_salary\"].groupby(salary_df['Job Title']).value_counts()"
   ]
  },
  {
   "cell_type": "code",
   "execution_count": 12,
   "metadata": {},
   "outputs": [
    {
     "data": {
      "application/vnd.plotly.v1+json": {
       "config": {
        "plotlyServerURL": "https://plot.ly"
       },
       "data": [
        {
         "alignmentgroup": "True",
         "hovertemplate": "x=%{x}<br>y=%{y}<br>text=%{text}<br>color=%{marker.color}<extra></extra>",
         "legendgroup": "",
         "marker": {
          "color": [
           410,
           193,
           55,
           34,
           15,
           15,
           13,
           3,
           2,
           1,
           1
          ],
          "coloraxis": "coloraxis",
          "pattern": {
           "shape": ""
          }
         },
         "name": "",
         "offsetgroup": "",
         "orientation": "v",
         "showlegend": false,
         "text": [
          410,
          193,
          55,
          34,
          15,
          15,
          13,
          3,
          2,
          1,
          1
         ],
         "textposition": "auto",
         "type": "bar",
         "x": [
          "Company - Private",
          "Company - Public",
          "Nonprofit Organization",
          "Subsidiary or Business Segment",
          "Government",
          "Hospital",
          "College / University",
          "Other Organization",
          "School / School District",
          "Unknown",
          "-1"
         ],
         "xaxis": "x",
         "y": [
          410,
          193,
          55,
          34,
          15,
          15,
          13,
          3,
          2,
          1,
          1
         ],
         "yaxis": "y"
        }
       ],
       "layout": {
        "barmode": "relative",
        "coloraxis": {
         "colorbar": {
          "title": {
           "text": "color"
          }
         },
         "colorscale": [
          [
           0,
           "#0d0887"
          ],
          [
           0.1111111111111111,
           "#46039f"
          ],
          [
           0.2222222222222222,
           "#7201a8"
          ],
          [
           0.3333333333333333,
           "#9c179e"
          ],
          [
           0.4444444444444444,
           "#bd3786"
          ],
          [
           0.5555555555555556,
           "#d8576b"
          ],
          [
           0.6666666666666666,
           "#ed7953"
          ],
          [
           0.7777777777777778,
           "#fb9f3a"
          ],
          [
           0.8888888888888888,
           "#fdca26"
          ],
          [
           1,
           "#f0f921"
          ]
         ]
        },
        "legend": {
         "tracegroupgap": 0
        },
        "margin": {
         "t": 60
        },
        "template": {
         "data": {
          "bar": [
           {
            "error_x": {
             "color": "#2a3f5f"
            },
            "error_y": {
             "color": "#2a3f5f"
            },
            "marker": {
             "line": {
              "color": "#E5ECF6",
              "width": 0.5
             },
             "pattern": {
              "fillmode": "overlay",
              "size": 10,
              "solidity": 0.2
             }
            },
            "type": "bar"
           }
          ],
          "barpolar": [
           {
            "marker": {
             "line": {
              "color": "#E5ECF6",
              "width": 0.5
             },
             "pattern": {
              "fillmode": "overlay",
              "size": 10,
              "solidity": 0.2
             }
            },
            "type": "barpolar"
           }
          ],
          "carpet": [
           {
            "aaxis": {
             "endlinecolor": "#2a3f5f",
             "gridcolor": "white",
             "linecolor": "white",
             "minorgridcolor": "white",
             "startlinecolor": "#2a3f5f"
            },
            "baxis": {
             "endlinecolor": "#2a3f5f",
             "gridcolor": "white",
             "linecolor": "white",
             "minorgridcolor": "white",
             "startlinecolor": "#2a3f5f"
            },
            "type": "carpet"
           }
          ],
          "choropleth": [
           {
            "colorbar": {
             "outlinewidth": 0,
             "ticks": ""
            },
            "type": "choropleth"
           }
          ],
          "contour": [
           {
            "colorbar": {
             "outlinewidth": 0,
             "ticks": ""
            },
            "colorscale": [
             [
              0,
              "#0d0887"
             ],
             [
              0.1111111111111111,
              "#46039f"
             ],
             [
              0.2222222222222222,
              "#7201a8"
             ],
             [
              0.3333333333333333,
              "#9c179e"
             ],
             [
              0.4444444444444444,
              "#bd3786"
             ],
             [
              0.5555555555555556,
              "#d8576b"
             ],
             [
              0.6666666666666666,
              "#ed7953"
             ],
             [
              0.7777777777777778,
              "#fb9f3a"
             ],
             [
              0.8888888888888888,
              "#fdca26"
             ],
             [
              1,
              "#f0f921"
             ]
            ],
            "type": "contour"
           }
          ],
          "contourcarpet": [
           {
            "colorbar": {
             "outlinewidth": 0,
             "ticks": ""
            },
            "type": "contourcarpet"
           }
          ],
          "heatmap": [
           {
            "colorbar": {
             "outlinewidth": 0,
             "ticks": ""
            },
            "colorscale": [
             [
              0,
              "#0d0887"
             ],
             [
              0.1111111111111111,
              "#46039f"
             ],
             [
              0.2222222222222222,
              "#7201a8"
             ],
             [
              0.3333333333333333,
              "#9c179e"
             ],
             [
              0.4444444444444444,
              "#bd3786"
             ],
             [
              0.5555555555555556,
              "#d8576b"
             ],
             [
              0.6666666666666666,
              "#ed7953"
             ],
             [
              0.7777777777777778,
              "#fb9f3a"
             ],
             [
              0.8888888888888888,
              "#fdca26"
             ],
             [
              1,
              "#f0f921"
             ]
            ],
            "type": "heatmap"
           }
          ],
          "heatmapgl": [
           {
            "colorbar": {
             "outlinewidth": 0,
             "ticks": ""
            },
            "colorscale": [
             [
              0,
              "#0d0887"
             ],
             [
              0.1111111111111111,
              "#46039f"
             ],
             [
              0.2222222222222222,
              "#7201a8"
             ],
             [
              0.3333333333333333,
              "#9c179e"
             ],
             [
              0.4444444444444444,
              "#bd3786"
             ],
             [
              0.5555555555555556,
              "#d8576b"
             ],
             [
              0.6666666666666666,
              "#ed7953"
             ],
             [
              0.7777777777777778,
              "#fb9f3a"
             ],
             [
              0.8888888888888888,
              "#fdca26"
             ],
             [
              1,
              "#f0f921"
             ]
            ],
            "type": "heatmapgl"
           }
          ],
          "histogram": [
           {
            "marker": {
             "pattern": {
              "fillmode": "overlay",
              "size": 10,
              "solidity": 0.2
             }
            },
            "type": "histogram"
           }
          ],
          "histogram2d": [
           {
            "colorbar": {
             "outlinewidth": 0,
             "ticks": ""
            },
            "colorscale": [
             [
              0,
              "#0d0887"
             ],
             [
              0.1111111111111111,
              "#46039f"
             ],
             [
              0.2222222222222222,
              "#7201a8"
             ],
             [
              0.3333333333333333,
              "#9c179e"
             ],
             [
              0.4444444444444444,
              "#bd3786"
             ],
             [
              0.5555555555555556,
              "#d8576b"
             ],
             [
              0.6666666666666666,
              "#ed7953"
             ],
             [
              0.7777777777777778,
              "#fb9f3a"
             ],
             [
              0.8888888888888888,
              "#fdca26"
             ],
             [
              1,
              "#f0f921"
             ]
            ],
            "type": "histogram2d"
           }
          ],
          "histogram2dcontour": [
           {
            "colorbar": {
             "outlinewidth": 0,
             "ticks": ""
            },
            "colorscale": [
             [
              0,
              "#0d0887"
             ],
             [
              0.1111111111111111,
              "#46039f"
             ],
             [
              0.2222222222222222,
              "#7201a8"
             ],
             [
              0.3333333333333333,
              "#9c179e"
             ],
             [
              0.4444444444444444,
              "#bd3786"
             ],
             [
              0.5555555555555556,
              "#d8576b"
             ],
             [
              0.6666666666666666,
              "#ed7953"
             ],
             [
              0.7777777777777778,
              "#fb9f3a"
             ],
             [
              0.8888888888888888,
              "#fdca26"
             ],
             [
              1,
              "#f0f921"
             ]
            ],
            "type": "histogram2dcontour"
           }
          ],
          "mesh3d": [
           {
            "colorbar": {
             "outlinewidth": 0,
             "ticks": ""
            },
            "type": "mesh3d"
           }
          ],
          "parcoords": [
           {
            "line": {
             "colorbar": {
              "outlinewidth": 0,
              "ticks": ""
             }
            },
            "type": "parcoords"
           }
          ],
          "pie": [
           {
            "automargin": true,
            "type": "pie"
           }
          ],
          "scatter": [
           {
            "fillpattern": {
             "fillmode": "overlay",
             "size": 10,
             "solidity": 0.2
            },
            "type": "scatter"
           }
          ],
          "scatter3d": [
           {
            "line": {
             "colorbar": {
              "outlinewidth": 0,
              "ticks": ""
             }
            },
            "marker": {
             "colorbar": {
              "outlinewidth": 0,
              "ticks": ""
             }
            },
            "type": "scatter3d"
           }
          ],
          "scattercarpet": [
           {
            "marker": {
             "colorbar": {
              "outlinewidth": 0,
              "ticks": ""
             }
            },
            "type": "scattercarpet"
           }
          ],
          "scattergeo": [
           {
            "marker": {
             "colorbar": {
              "outlinewidth": 0,
              "ticks": ""
             }
            },
            "type": "scattergeo"
           }
          ],
          "scattergl": [
           {
            "marker": {
             "colorbar": {
              "outlinewidth": 0,
              "ticks": ""
             }
            },
            "type": "scattergl"
           }
          ],
          "scattermapbox": [
           {
            "marker": {
             "colorbar": {
              "outlinewidth": 0,
              "ticks": ""
             }
            },
            "type": "scattermapbox"
           }
          ],
          "scatterpolar": [
           {
            "marker": {
             "colorbar": {
              "outlinewidth": 0,
              "ticks": ""
             }
            },
            "type": "scatterpolar"
           }
          ],
          "scatterpolargl": [
           {
            "marker": {
             "colorbar": {
              "outlinewidth": 0,
              "ticks": ""
             }
            },
            "type": "scatterpolargl"
           }
          ],
          "scatterternary": [
           {
            "marker": {
             "colorbar": {
              "outlinewidth": 0,
              "ticks": ""
             }
            },
            "type": "scatterternary"
           }
          ],
          "surface": [
           {
            "colorbar": {
             "outlinewidth": 0,
             "ticks": ""
            },
            "colorscale": [
             [
              0,
              "#0d0887"
             ],
             [
              0.1111111111111111,
              "#46039f"
             ],
             [
              0.2222222222222222,
              "#7201a8"
             ],
             [
              0.3333333333333333,
              "#9c179e"
             ],
             [
              0.4444444444444444,
              "#bd3786"
             ],
             [
              0.5555555555555556,
              "#d8576b"
             ],
             [
              0.6666666666666666,
              "#ed7953"
             ],
             [
              0.7777777777777778,
              "#fb9f3a"
             ],
             [
              0.8888888888888888,
              "#fdca26"
             ],
             [
              1,
              "#f0f921"
             ]
            ],
            "type": "surface"
           }
          ],
          "table": [
           {
            "cells": {
             "fill": {
              "color": "#EBF0F8"
             },
             "line": {
              "color": "white"
             }
            },
            "header": {
             "fill": {
              "color": "#C8D4E3"
             },
             "line": {
              "color": "white"
             }
            },
            "type": "table"
           }
          ]
         },
         "layout": {
          "annotationdefaults": {
           "arrowcolor": "#2a3f5f",
           "arrowhead": 0,
           "arrowwidth": 1
          },
          "autotypenumbers": "strict",
          "coloraxis": {
           "colorbar": {
            "outlinewidth": 0,
            "ticks": ""
           }
          },
          "colorscale": {
           "diverging": [
            [
             0,
             "#8e0152"
            ],
            [
             0.1,
             "#c51b7d"
            ],
            [
             0.2,
             "#de77ae"
            ],
            [
             0.3,
             "#f1b6da"
            ],
            [
             0.4,
             "#fde0ef"
            ],
            [
             0.5,
             "#f7f7f7"
            ],
            [
             0.6,
             "#e6f5d0"
            ],
            [
             0.7,
             "#b8e186"
            ],
            [
             0.8,
             "#7fbc41"
            ],
            [
             0.9,
             "#4d9221"
            ],
            [
             1,
             "#276419"
            ]
           ],
           "sequential": [
            [
             0,
             "#0d0887"
            ],
            [
             0.1111111111111111,
             "#46039f"
            ],
            [
             0.2222222222222222,
             "#7201a8"
            ],
            [
             0.3333333333333333,
             "#9c179e"
            ],
            [
             0.4444444444444444,
             "#bd3786"
            ],
            [
             0.5555555555555556,
             "#d8576b"
            ],
            [
             0.6666666666666666,
             "#ed7953"
            ],
            [
             0.7777777777777778,
             "#fb9f3a"
            ],
            [
             0.8888888888888888,
             "#fdca26"
            ],
            [
             1,
             "#f0f921"
            ]
           ],
           "sequentialminus": [
            [
             0,
             "#0d0887"
            ],
            [
             0.1111111111111111,
             "#46039f"
            ],
            [
             0.2222222222222222,
             "#7201a8"
            ],
            [
             0.3333333333333333,
             "#9c179e"
            ],
            [
             0.4444444444444444,
             "#bd3786"
            ],
            [
             0.5555555555555556,
             "#d8576b"
            ],
            [
             0.6666666666666666,
             "#ed7953"
            ],
            [
             0.7777777777777778,
             "#fb9f3a"
            ],
            [
             0.8888888888888888,
             "#fdca26"
            ],
            [
             1,
             "#f0f921"
            ]
           ]
          },
          "colorway": [
           "#636efa",
           "#EF553B",
           "#00cc96",
           "#ab63fa",
           "#FFA15A",
           "#19d3f3",
           "#FF6692",
           "#B6E880",
           "#FF97FF",
           "#FECB52"
          ],
          "font": {
           "color": "#2a3f5f"
          },
          "geo": {
           "bgcolor": "white",
           "lakecolor": "white",
           "landcolor": "#E5ECF6",
           "showlakes": true,
           "showland": true,
           "subunitcolor": "white"
          },
          "hoverlabel": {
           "align": "left"
          },
          "hovermode": "closest",
          "mapbox": {
           "style": "light"
          },
          "paper_bgcolor": "white",
          "plot_bgcolor": "#E5ECF6",
          "polar": {
           "angularaxis": {
            "gridcolor": "white",
            "linecolor": "white",
            "ticks": ""
           },
           "bgcolor": "#E5ECF6",
           "radialaxis": {
            "gridcolor": "white",
            "linecolor": "white",
            "ticks": ""
           }
          },
          "scene": {
           "xaxis": {
            "backgroundcolor": "#E5ECF6",
            "gridcolor": "white",
            "gridwidth": 2,
            "linecolor": "white",
            "showbackground": true,
            "ticks": "",
            "zerolinecolor": "white"
           },
           "yaxis": {
            "backgroundcolor": "#E5ECF6",
            "gridcolor": "white",
            "gridwidth": 2,
            "linecolor": "white",
            "showbackground": true,
            "ticks": "",
            "zerolinecolor": "white"
           },
           "zaxis": {
            "backgroundcolor": "#E5ECF6",
            "gridcolor": "white",
            "gridwidth": 2,
            "linecolor": "white",
            "showbackground": true,
            "ticks": "",
            "zerolinecolor": "white"
           }
          },
          "shapedefaults": {
           "line": {
            "color": "#2a3f5f"
           }
          },
          "ternary": {
           "aaxis": {
            "gridcolor": "white",
            "linecolor": "white",
            "ticks": ""
           },
           "baxis": {
            "gridcolor": "white",
            "linecolor": "white",
            "ticks": ""
           },
           "bgcolor": "#E5ECF6",
           "caxis": {
            "gridcolor": "white",
            "linecolor": "white",
            "ticks": ""
           }
          },
          "title": {
           "x": 0.05
          },
          "xaxis": {
           "automargin": true,
           "gridcolor": "white",
           "linecolor": "white",
           "ticks": "",
           "title": {
            "standoff": 15
           },
           "zerolinecolor": "white",
           "zerolinewidth": 2
          },
          "yaxis": {
           "automargin": true,
           "gridcolor": "white",
           "linecolor": "white",
           "ticks": "",
           "title": {
            "standoff": 15
           },
           "zerolinecolor": "white",
           "zerolinewidth": 2
          }
         }
        },
        "title": {
         "text": "Type of Ownership Distribution"
        },
        "xaxis": {
         "anchor": "y",
         "domain": [
          0,
          1
         ],
         "title": {
          "text": "Count"
         }
        },
        "yaxis": {
         "anchor": "x",
         "domain": [
          0,
          1
         ],
         "title": {
          "text": "Type of Ownership"
         }
        }
       }
      }
     },
     "metadata": {},
     "output_type": "display_data"
    }
   ],
   "source": [
    "# display the Type of Ownership\n",
    "values = salary_df['Type of ownership'].value_counts(\n",
    "    ascending=False).values\n",
    "\n",
    "keys = salary_df['Type of ownership'].value_counts(\n",
    "    ascending=False).keys()\n",
    "\n",
    "bar_chart = px.bar(x=keys, y=values, color=values, text=values)\n",
    "\n",
    "bar_chart.update_layout(\n",
    "    yaxis_title=\"Type of Ownership\",\n",
    "    xaxis_title=\"Count\",\n",
    "    title=\"Type of Ownership Distribution\",\n",
    ")\n",
    "\n",
    "bar_chart.show()"
   ]
  },
  {
   "cell_type": "code",
   "execution_count": 13,
   "metadata": {},
   "outputs": [
    {
     "data": {
      "application/vnd.plotly.v1+json": {
       "config": {
        "plotlyServerURL": "https://plot.ly"
       },
       "data": [
        {
         "alignmentgroup": "True",
         "hovertemplate": "x=%{x}<br>y=%{y}<br>text=%{text}<br>color=%{marker.color}<extra></extra>",
         "legendgroup": "",
         "marker": {
          "color": [
           180,
           112,
           97,
           69,
           49,
           42,
           34,
           25,
           23,
           15,
           14,
           11,
           10,
           9,
           8,
           8,
           8,
           6,
           6,
           4,
           4,
           3,
           3,
           1,
           1
          ],
          "coloraxis": "coloraxis",
          "pattern": {
           "shape": ""
          }
         },
         "name": "",
         "offsetgroup": "",
         "orientation": "v",
         "showlegend": false,
         "text": [
          180,
          112,
          97,
          69,
          49,
          42,
          34,
          25,
          23,
          15,
          14,
          11,
          10,
          9,
          8,
          8,
          8,
          6,
          6,
          4,
          4,
          3,
          3,
          1,
          1
         ],
         "textposition": "auto",
         "type": "bar",
         "x": [
          "Information Technology",
          "Biotech & Pharmaceuticals",
          "Business Services",
          "Insurance",
          "Health Care",
          "Finance",
          "Manufacturing",
          "Aerospace & Defense",
          "Education",
          "Retail",
          "Oil, Gas, Energy & Utilities",
          "Government",
          "-1",
          "Non-Profit",
          "Real Estate",
          "Transportation & Logistics",
          "Travel & Tourism",
          "Media",
          "Telecommunications",
          "Consumer Services",
          "Arts, Entertainment & Recreation",
          "Mining & Metals",
          "Construction, Repair & Maintenance",
          "Agriculture & Forestry",
          "Accounting & Legal"
         ],
         "xaxis": "x",
         "y": [
          180,
          112,
          97,
          69,
          49,
          42,
          34,
          25,
          23,
          15,
          14,
          11,
          10,
          9,
          8,
          8,
          8,
          6,
          6,
          4,
          4,
          3,
          3,
          1,
          1
         ],
         "yaxis": "y"
        }
       ],
       "layout": {
        "barmode": "relative",
        "coloraxis": {
         "colorbar": {
          "title": {
           "text": "color"
          }
         },
         "colorscale": [
          [
           0,
           "#0d0887"
          ],
          [
           0.1111111111111111,
           "#46039f"
          ],
          [
           0.2222222222222222,
           "#7201a8"
          ],
          [
           0.3333333333333333,
           "#9c179e"
          ],
          [
           0.4444444444444444,
           "#bd3786"
          ],
          [
           0.5555555555555556,
           "#d8576b"
          ],
          [
           0.6666666666666666,
           "#ed7953"
          ],
          [
           0.7777777777777778,
           "#fb9f3a"
          ],
          [
           0.8888888888888888,
           "#fdca26"
          ],
          [
           1,
           "#f0f921"
          ]
         ]
        },
        "legend": {
         "tracegroupgap": 0
        },
        "margin": {
         "t": 60
        },
        "template": {
         "data": {
          "bar": [
           {
            "error_x": {
             "color": "#2a3f5f"
            },
            "error_y": {
             "color": "#2a3f5f"
            },
            "marker": {
             "line": {
              "color": "#E5ECF6",
              "width": 0.5
             },
             "pattern": {
              "fillmode": "overlay",
              "size": 10,
              "solidity": 0.2
             }
            },
            "type": "bar"
           }
          ],
          "barpolar": [
           {
            "marker": {
             "line": {
              "color": "#E5ECF6",
              "width": 0.5
             },
             "pattern": {
              "fillmode": "overlay",
              "size": 10,
              "solidity": 0.2
             }
            },
            "type": "barpolar"
           }
          ],
          "carpet": [
           {
            "aaxis": {
             "endlinecolor": "#2a3f5f",
             "gridcolor": "white",
             "linecolor": "white",
             "minorgridcolor": "white",
             "startlinecolor": "#2a3f5f"
            },
            "baxis": {
             "endlinecolor": "#2a3f5f",
             "gridcolor": "white",
             "linecolor": "white",
             "minorgridcolor": "white",
             "startlinecolor": "#2a3f5f"
            },
            "type": "carpet"
           }
          ],
          "choropleth": [
           {
            "colorbar": {
             "outlinewidth": 0,
             "ticks": ""
            },
            "type": "choropleth"
           }
          ],
          "contour": [
           {
            "colorbar": {
             "outlinewidth": 0,
             "ticks": ""
            },
            "colorscale": [
             [
              0,
              "#0d0887"
             ],
             [
              0.1111111111111111,
              "#46039f"
             ],
             [
              0.2222222222222222,
              "#7201a8"
             ],
             [
              0.3333333333333333,
              "#9c179e"
             ],
             [
              0.4444444444444444,
              "#bd3786"
             ],
             [
              0.5555555555555556,
              "#d8576b"
             ],
             [
              0.6666666666666666,
              "#ed7953"
             ],
             [
              0.7777777777777778,
              "#fb9f3a"
             ],
             [
              0.8888888888888888,
              "#fdca26"
             ],
             [
              1,
              "#f0f921"
             ]
            ],
            "type": "contour"
           }
          ],
          "contourcarpet": [
           {
            "colorbar": {
             "outlinewidth": 0,
             "ticks": ""
            },
            "type": "contourcarpet"
           }
          ],
          "heatmap": [
           {
            "colorbar": {
             "outlinewidth": 0,
             "ticks": ""
            },
            "colorscale": [
             [
              0,
              "#0d0887"
             ],
             [
              0.1111111111111111,
              "#46039f"
             ],
             [
              0.2222222222222222,
              "#7201a8"
             ],
             [
              0.3333333333333333,
              "#9c179e"
             ],
             [
              0.4444444444444444,
              "#bd3786"
             ],
             [
              0.5555555555555556,
              "#d8576b"
             ],
             [
              0.6666666666666666,
              "#ed7953"
             ],
             [
              0.7777777777777778,
              "#fb9f3a"
             ],
             [
              0.8888888888888888,
              "#fdca26"
             ],
             [
              1,
              "#f0f921"
             ]
            ],
            "type": "heatmap"
           }
          ],
          "heatmapgl": [
           {
            "colorbar": {
             "outlinewidth": 0,
             "ticks": ""
            },
            "colorscale": [
             [
              0,
              "#0d0887"
             ],
             [
              0.1111111111111111,
              "#46039f"
             ],
             [
              0.2222222222222222,
              "#7201a8"
             ],
             [
              0.3333333333333333,
              "#9c179e"
             ],
             [
              0.4444444444444444,
              "#bd3786"
             ],
             [
              0.5555555555555556,
              "#d8576b"
             ],
             [
              0.6666666666666666,
              "#ed7953"
             ],
             [
              0.7777777777777778,
              "#fb9f3a"
             ],
             [
              0.8888888888888888,
              "#fdca26"
             ],
             [
              1,
              "#f0f921"
             ]
            ],
            "type": "heatmapgl"
           }
          ],
          "histogram": [
           {
            "marker": {
             "pattern": {
              "fillmode": "overlay",
              "size": 10,
              "solidity": 0.2
             }
            },
            "type": "histogram"
           }
          ],
          "histogram2d": [
           {
            "colorbar": {
             "outlinewidth": 0,
             "ticks": ""
            },
            "colorscale": [
             [
              0,
              "#0d0887"
             ],
             [
              0.1111111111111111,
              "#46039f"
             ],
             [
              0.2222222222222222,
              "#7201a8"
             ],
             [
              0.3333333333333333,
              "#9c179e"
             ],
             [
              0.4444444444444444,
              "#bd3786"
             ],
             [
              0.5555555555555556,
              "#d8576b"
             ],
             [
              0.6666666666666666,
              "#ed7953"
             ],
             [
              0.7777777777777778,
              "#fb9f3a"
             ],
             [
              0.8888888888888888,
              "#fdca26"
             ],
             [
              1,
              "#f0f921"
             ]
            ],
            "type": "histogram2d"
           }
          ],
          "histogram2dcontour": [
           {
            "colorbar": {
             "outlinewidth": 0,
             "ticks": ""
            },
            "colorscale": [
             [
              0,
              "#0d0887"
             ],
             [
              0.1111111111111111,
              "#46039f"
             ],
             [
              0.2222222222222222,
              "#7201a8"
             ],
             [
              0.3333333333333333,
              "#9c179e"
             ],
             [
              0.4444444444444444,
              "#bd3786"
             ],
             [
              0.5555555555555556,
              "#d8576b"
             ],
             [
              0.6666666666666666,
              "#ed7953"
             ],
             [
              0.7777777777777778,
              "#fb9f3a"
             ],
             [
              0.8888888888888888,
              "#fdca26"
             ],
             [
              1,
              "#f0f921"
             ]
            ],
            "type": "histogram2dcontour"
           }
          ],
          "mesh3d": [
           {
            "colorbar": {
             "outlinewidth": 0,
             "ticks": ""
            },
            "type": "mesh3d"
           }
          ],
          "parcoords": [
           {
            "line": {
             "colorbar": {
              "outlinewidth": 0,
              "ticks": ""
             }
            },
            "type": "parcoords"
           }
          ],
          "pie": [
           {
            "automargin": true,
            "type": "pie"
           }
          ],
          "scatter": [
           {
            "fillpattern": {
             "fillmode": "overlay",
             "size": 10,
             "solidity": 0.2
            },
            "type": "scatter"
           }
          ],
          "scatter3d": [
           {
            "line": {
             "colorbar": {
              "outlinewidth": 0,
              "ticks": ""
             }
            },
            "marker": {
             "colorbar": {
              "outlinewidth": 0,
              "ticks": ""
             }
            },
            "type": "scatter3d"
           }
          ],
          "scattercarpet": [
           {
            "marker": {
             "colorbar": {
              "outlinewidth": 0,
              "ticks": ""
             }
            },
            "type": "scattercarpet"
           }
          ],
          "scattergeo": [
           {
            "marker": {
             "colorbar": {
              "outlinewidth": 0,
              "ticks": ""
             }
            },
            "type": "scattergeo"
           }
          ],
          "scattergl": [
           {
            "marker": {
             "colorbar": {
              "outlinewidth": 0,
              "ticks": ""
             }
            },
            "type": "scattergl"
           }
          ],
          "scattermapbox": [
           {
            "marker": {
             "colorbar": {
              "outlinewidth": 0,
              "ticks": ""
             }
            },
            "type": "scattermapbox"
           }
          ],
          "scatterpolar": [
           {
            "marker": {
             "colorbar": {
              "outlinewidth": 0,
              "ticks": ""
             }
            },
            "type": "scatterpolar"
           }
          ],
          "scatterpolargl": [
           {
            "marker": {
             "colorbar": {
              "outlinewidth": 0,
              "ticks": ""
             }
            },
            "type": "scatterpolargl"
           }
          ],
          "scatterternary": [
           {
            "marker": {
             "colorbar": {
              "outlinewidth": 0,
              "ticks": ""
             }
            },
            "type": "scatterternary"
           }
          ],
          "surface": [
           {
            "colorbar": {
             "outlinewidth": 0,
             "ticks": ""
            },
            "colorscale": [
             [
              0,
              "#0d0887"
             ],
             [
              0.1111111111111111,
              "#46039f"
             ],
             [
              0.2222222222222222,
              "#7201a8"
             ],
             [
              0.3333333333333333,
              "#9c179e"
             ],
             [
              0.4444444444444444,
              "#bd3786"
             ],
             [
              0.5555555555555556,
              "#d8576b"
             ],
             [
              0.6666666666666666,
              "#ed7953"
             ],
             [
              0.7777777777777778,
              "#fb9f3a"
             ],
             [
              0.8888888888888888,
              "#fdca26"
             ],
             [
              1,
              "#f0f921"
             ]
            ],
            "type": "surface"
           }
          ],
          "table": [
           {
            "cells": {
             "fill": {
              "color": "#EBF0F8"
             },
             "line": {
              "color": "white"
             }
            },
            "header": {
             "fill": {
              "color": "#C8D4E3"
             },
             "line": {
              "color": "white"
             }
            },
            "type": "table"
           }
          ]
         },
         "layout": {
          "annotationdefaults": {
           "arrowcolor": "#2a3f5f",
           "arrowhead": 0,
           "arrowwidth": 1
          },
          "autotypenumbers": "strict",
          "coloraxis": {
           "colorbar": {
            "outlinewidth": 0,
            "ticks": ""
           }
          },
          "colorscale": {
           "diverging": [
            [
             0,
             "#8e0152"
            ],
            [
             0.1,
             "#c51b7d"
            ],
            [
             0.2,
             "#de77ae"
            ],
            [
             0.3,
             "#f1b6da"
            ],
            [
             0.4,
             "#fde0ef"
            ],
            [
             0.5,
             "#f7f7f7"
            ],
            [
             0.6,
             "#e6f5d0"
            ],
            [
             0.7,
             "#b8e186"
            ],
            [
             0.8,
             "#7fbc41"
            ],
            [
             0.9,
             "#4d9221"
            ],
            [
             1,
             "#276419"
            ]
           ],
           "sequential": [
            [
             0,
             "#0d0887"
            ],
            [
             0.1111111111111111,
             "#46039f"
            ],
            [
             0.2222222222222222,
             "#7201a8"
            ],
            [
             0.3333333333333333,
             "#9c179e"
            ],
            [
             0.4444444444444444,
             "#bd3786"
            ],
            [
             0.5555555555555556,
             "#d8576b"
            ],
            [
             0.6666666666666666,
             "#ed7953"
            ],
            [
             0.7777777777777778,
             "#fb9f3a"
            ],
            [
             0.8888888888888888,
             "#fdca26"
            ],
            [
             1,
             "#f0f921"
            ]
           ],
           "sequentialminus": [
            [
             0,
             "#0d0887"
            ],
            [
             0.1111111111111111,
             "#46039f"
            ],
            [
             0.2222222222222222,
             "#7201a8"
            ],
            [
             0.3333333333333333,
             "#9c179e"
            ],
            [
             0.4444444444444444,
             "#bd3786"
            ],
            [
             0.5555555555555556,
             "#d8576b"
            ],
            [
             0.6666666666666666,
             "#ed7953"
            ],
            [
             0.7777777777777778,
             "#fb9f3a"
            ],
            [
             0.8888888888888888,
             "#fdca26"
            ],
            [
             1,
             "#f0f921"
            ]
           ]
          },
          "colorway": [
           "#636efa",
           "#EF553B",
           "#00cc96",
           "#ab63fa",
           "#FFA15A",
           "#19d3f3",
           "#FF6692",
           "#B6E880",
           "#FF97FF",
           "#FECB52"
          ],
          "font": {
           "color": "#2a3f5f"
          },
          "geo": {
           "bgcolor": "white",
           "lakecolor": "white",
           "landcolor": "#E5ECF6",
           "showlakes": true,
           "showland": true,
           "subunitcolor": "white"
          },
          "hoverlabel": {
           "align": "left"
          },
          "hovermode": "closest",
          "mapbox": {
           "style": "light"
          },
          "paper_bgcolor": "white",
          "plot_bgcolor": "#E5ECF6",
          "polar": {
           "angularaxis": {
            "gridcolor": "white",
            "linecolor": "white",
            "ticks": ""
           },
           "bgcolor": "#E5ECF6",
           "radialaxis": {
            "gridcolor": "white",
            "linecolor": "white",
            "ticks": ""
           }
          },
          "scene": {
           "xaxis": {
            "backgroundcolor": "#E5ECF6",
            "gridcolor": "white",
            "gridwidth": 2,
            "linecolor": "white",
            "showbackground": true,
            "ticks": "",
            "zerolinecolor": "white"
           },
           "yaxis": {
            "backgroundcolor": "#E5ECF6",
            "gridcolor": "white",
            "gridwidth": 2,
            "linecolor": "white",
            "showbackground": true,
            "ticks": "",
            "zerolinecolor": "white"
           },
           "zaxis": {
            "backgroundcolor": "#E5ECF6",
            "gridcolor": "white",
            "gridwidth": 2,
            "linecolor": "white",
            "showbackground": true,
            "ticks": "",
            "zerolinecolor": "white"
           }
          },
          "shapedefaults": {
           "line": {
            "color": "#2a3f5f"
           }
          },
          "ternary": {
           "aaxis": {
            "gridcolor": "white",
            "linecolor": "white",
            "ticks": ""
           },
           "baxis": {
            "gridcolor": "white",
            "linecolor": "white",
            "ticks": ""
           },
           "bgcolor": "#E5ECF6",
           "caxis": {
            "gridcolor": "white",
            "linecolor": "white",
            "ticks": ""
           }
          },
          "title": {
           "x": 0.05
          },
          "xaxis": {
           "automargin": true,
           "gridcolor": "white",
           "linecolor": "white",
           "ticks": "",
           "title": {
            "standoff": 15
           },
           "zerolinecolor": "white",
           "zerolinewidth": 2
          },
          "yaxis": {
           "automargin": true,
           "gridcolor": "white",
           "linecolor": "white",
           "ticks": "",
           "title": {
            "standoff": 15
           },
           "zerolinecolor": "white",
           "zerolinewidth": 2
          }
         }
        },
        "title": {
         "text": "Sector Distribution"
        },
        "xaxis": {
         "anchor": "y",
         "domain": [
          0,
          1
         ],
         "title": {
          "text": "Count"
         }
        },
        "yaxis": {
         "anchor": "x",
         "domain": [
          0,
          1
         ],
         "title": {
          "text": "Sector"
         }
        }
       }
      }
     },
     "metadata": {},
     "output_type": "display_data"
    }
   ],
   "source": [
    "# display the Sector\n",
    "values = salary_df['Sector'].value_counts(\n",
    "    ascending=False).values\n",
    "\n",
    "keys = salary_df['Sector'].value_counts(\n",
    "    ascending=False).keys()\n",
    "\n",
    "bar_chart = px.bar(x=keys, y=values, color=values, text=values)\n",
    "\n",
    "bar_chart.update_layout(\n",
    "    yaxis_title=\"Sector\",\n",
    "    xaxis_title=\"Count\",\n",
    "    title=\"Sector Distribution\",\n",
    ")\n",
    "\n",
    "bar_chart.show()"
   ]
  },
  {
   "cell_type": "code",
   "execution_count": 14,
   "metadata": {},
   "outputs": [
    {
     "data": {
      "application/vnd.plotly.v1+json": {
       "config": {
        "plotlyServerURL": "https://plot.ly"
       },
       "data": [
        {
         "alignmentgroup": "True",
         "hovertemplate": "x=%{x}<br>y=%{y}<br>text=%{text}<br>color=%{marker.color}<extra></extra>",
         "legendgroup": "",
         "marker": {
          "color": [
           112,
           63,
           59,
           50,
           49,
           42,
           29,
           29,
           25,
           25,
           20,
           19,
           16,
           14,
           12,
           11,
           10,
           10,
           8,
           8,
           8,
           8,
           8,
           7,
           6,
           6,
           6,
           5,
           4,
           4,
           4,
           4,
           4,
           4,
           4,
           4,
           3,
           3,
           3,
           3,
           3,
           3,
           3,
           3,
           2,
           2,
           2,
           2,
           2,
           1,
           1,
           1,
           1,
           1,
           1,
           1,
           1,
           1,
           1,
           1
          ],
          "coloraxis": "coloraxis",
          "pattern": {
           "shape": ""
          }
         },
         "name": "",
         "offsetgroup": "",
         "orientation": "v",
         "showlegend": false,
         "text": [
          112,
          63,
          59,
          50,
          49,
          42,
          29,
          29,
          25,
          25,
          20,
          19,
          16,
          14,
          12,
          11,
          10,
          10,
          8,
          8,
          8,
          8,
          8,
          7,
          6,
          6,
          6,
          5,
          4,
          4,
          4,
          4,
          4,
          4,
          4,
          4,
          3,
          3,
          3,
          3,
          3,
          3,
          3,
          3,
          2,
          2,
          2,
          2,
          2,
          1,
          1,
          1,
          1,
          1,
          1,
          1,
          1,
          1,
          1,
          1
         ],
         "textposition": "auto",
         "type": "bar",
         "x": [
          "Biotech & Pharmaceuticals",
          "Insurance Carriers",
          "Computer Hardware & Software",
          "IT Services",
          "Health Care Services & Hospitals",
          "Enterprise Software & Network Solutions",
          "Internet",
          "Consulting",
          "Advertising & Marketing",
          "Aerospace & Defense",
          "Consumer Products Manufacturing",
          "Research & Development",
          "Colleges & Universities",
          "Energy",
          "Banks & Credit Unions",
          "Federal Agencies",
          "Staffing & Outsourcing",
          "-1",
          "Real Estate",
          "Travel Agencies",
          "Financial Analytics & Research",
          "Lending",
          "Food & Beverage Manufacturing",
          "Security Services",
          "Insurance Agencies & Brokerages",
          "Religious Organizations",
          "Department, Clothing, & Shoe Stores",
          "Investment Banking & Asset Management",
          "Gambling",
          "K-12 Education",
          "Gas Stations",
          "Architectural & Engineering Services",
          "Telecommunications Services",
          "Logistics & Supply Chain",
          "Industrial Manufacturing",
          "Financial Transaction Processing",
          "Consumer Product Rental",
          "Social Assistance",
          "Construction",
          "Stock Exchanges",
          "Transportation Management",
          "Wholesale",
          "Education Training Services",
          "Video Games",
          "TV Broadcast & Cable Networks",
          "Telecommunications Manufacturing",
          "Metals Brokers",
          "Sporting Goods Stores",
          "Brokerage Services",
          "Other Retail Stores",
          "Motion Picture Production & Distribution",
          "Farm Support Services",
          "Transportation Equipment Manufacturing",
          "Mining",
          "Auctions & Galleries",
          "Trucking",
          "Accounting",
          "Health Care Products Manufacturing",
          "Health, Beauty, & Fitness",
          "Beauty & Personal Accessories Stores"
         ],
         "xaxis": "x",
         "y": [
          112,
          63,
          59,
          50,
          49,
          42,
          29,
          29,
          25,
          25,
          20,
          19,
          16,
          14,
          12,
          11,
          10,
          10,
          8,
          8,
          8,
          8,
          8,
          7,
          6,
          6,
          6,
          5,
          4,
          4,
          4,
          4,
          4,
          4,
          4,
          4,
          3,
          3,
          3,
          3,
          3,
          3,
          3,
          3,
          2,
          2,
          2,
          2,
          2,
          1,
          1,
          1,
          1,
          1,
          1,
          1,
          1,
          1,
          1,
          1
         ],
         "yaxis": "y"
        }
       ],
       "layout": {
        "barmode": "relative",
        "coloraxis": {
         "colorbar": {
          "title": {
           "text": "color"
          }
         },
         "colorscale": [
          [
           0,
           "#0d0887"
          ],
          [
           0.1111111111111111,
           "#46039f"
          ],
          [
           0.2222222222222222,
           "#7201a8"
          ],
          [
           0.3333333333333333,
           "#9c179e"
          ],
          [
           0.4444444444444444,
           "#bd3786"
          ],
          [
           0.5555555555555556,
           "#d8576b"
          ],
          [
           0.6666666666666666,
           "#ed7953"
          ],
          [
           0.7777777777777778,
           "#fb9f3a"
          ],
          [
           0.8888888888888888,
           "#fdca26"
          ],
          [
           1,
           "#f0f921"
          ]
         ]
        },
        "legend": {
         "tracegroupgap": 0
        },
        "margin": {
         "t": 60
        },
        "template": {
         "data": {
          "bar": [
           {
            "error_x": {
             "color": "#2a3f5f"
            },
            "error_y": {
             "color": "#2a3f5f"
            },
            "marker": {
             "line": {
              "color": "#E5ECF6",
              "width": 0.5
             },
             "pattern": {
              "fillmode": "overlay",
              "size": 10,
              "solidity": 0.2
             }
            },
            "type": "bar"
           }
          ],
          "barpolar": [
           {
            "marker": {
             "line": {
              "color": "#E5ECF6",
              "width": 0.5
             },
             "pattern": {
              "fillmode": "overlay",
              "size": 10,
              "solidity": 0.2
             }
            },
            "type": "barpolar"
           }
          ],
          "carpet": [
           {
            "aaxis": {
             "endlinecolor": "#2a3f5f",
             "gridcolor": "white",
             "linecolor": "white",
             "minorgridcolor": "white",
             "startlinecolor": "#2a3f5f"
            },
            "baxis": {
             "endlinecolor": "#2a3f5f",
             "gridcolor": "white",
             "linecolor": "white",
             "minorgridcolor": "white",
             "startlinecolor": "#2a3f5f"
            },
            "type": "carpet"
           }
          ],
          "choropleth": [
           {
            "colorbar": {
             "outlinewidth": 0,
             "ticks": ""
            },
            "type": "choropleth"
           }
          ],
          "contour": [
           {
            "colorbar": {
             "outlinewidth": 0,
             "ticks": ""
            },
            "colorscale": [
             [
              0,
              "#0d0887"
             ],
             [
              0.1111111111111111,
              "#46039f"
             ],
             [
              0.2222222222222222,
              "#7201a8"
             ],
             [
              0.3333333333333333,
              "#9c179e"
             ],
             [
              0.4444444444444444,
              "#bd3786"
             ],
             [
              0.5555555555555556,
              "#d8576b"
             ],
             [
              0.6666666666666666,
              "#ed7953"
             ],
             [
              0.7777777777777778,
              "#fb9f3a"
             ],
             [
              0.8888888888888888,
              "#fdca26"
             ],
             [
              1,
              "#f0f921"
             ]
            ],
            "type": "contour"
           }
          ],
          "contourcarpet": [
           {
            "colorbar": {
             "outlinewidth": 0,
             "ticks": ""
            },
            "type": "contourcarpet"
           }
          ],
          "heatmap": [
           {
            "colorbar": {
             "outlinewidth": 0,
             "ticks": ""
            },
            "colorscale": [
             [
              0,
              "#0d0887"
             ],
             [
              0.1111111111111111,
              "#46039f"
             ],
             [
              0.2222222222222222,
              "#7201a8"
             ],
             [
              0.3333333333333333,
              "#9c179e"
             ],
             [
              0.4444444444444444,
              "#bd3786"
             ],
             [
              0.5555555555555556,
              "#d8576b"
             ],
             [
              0.6666666666666666,
              "#ed7953"
             ],
             [
              0.7777777777777778,
              "#fb9f3a"
             ],
             [
              0.8888888888888888,
              "#fdca26"
             ],
             [
              1,
              "#f0f921"
             ]
            ],
            "type": "heatmap"
           }
          ],
          "heatmapgl": [
           {
            "colorbar": {
             "outlinewidth": 0,
             "ticks": ""
            },
            "colorscale": [
             [
              0,
              "#0d0887"
             ],
             [
              0.1111111111111111,
              "#46039f"
             ],
             [
              0.2222222222222222,
              "#7201a8"
             ],
             [
              0.3333333333333333,
              "#9c179e"
             ],
             [
              0.4444444444444444,
              "#bd3786"
             ],
             [
              0.5555555555555556,
              "#d8576b"
             ],
             [
              0.6666666666666666,
              "#ed7953"
             ],
             [
              0.7777777777777778,
              "#fb9f3a"
             ],
             [
              0.8888888888888888,
              "#fdca26"
             ],
             [
              1,
              "#f0f921"
             ]
            ],
            "type": "heatmapgl"
           }
          ],
          "histogram": [
           {
            "marker": {
             "pattern": {
              "fillmode": "overlay",
              "size": 10,
              "solidity": 0.2
             }
            },
            "type": "histogram"
           }
          ],
          "histogram2d": [
           {
            "colorbar": {
             "outlinewidth": 0,
             "ticks": ""
            },
            "colorscale": [
             [
              0,
              "#0d0887"
             ],
             [
              0.1111111111111111,
              "#46039f"
             ],
             [
              0.2222222222222222,
              "#7201a8"
             ],
             [
              0.3333333333333333,
              "#9c179e"
             ],
             [
              0.4444444444444444,
              "#bd3786"
             ],
             [
              0.5555555555555556,
              "#d8576b"
             ],
             [
              0.6666666666666666,
              "#ed7953"
             ],
             [
              0.7777777777777778,
              "#fb9f3a"
             ],
             [
              0.8888888888888888,
              "#fdca26"
             ],
             [
              1,
              "#f0f921"
             ]
            ],
            "type": "histogram2d"
           }
          ],
          "histogram2dcontour": [
           {
            "colorbar": {
             "outlinewidth": 0,
             "ticks": ""
            },
            "colorscale": [
             [
              0,
              "#0d0887"
             ],
             [
              0.1111111111111111,
              "#46039f"
             ],
             [
              0.2222222222222222,
              "#7201a8"
             ],
             [
              0.3333333333333333,
              "#9c179e"
             ],
             [
              0.4444444444444444,
              "#bd3786"
             ],
             [
              0.5555555555555556,
              "#d8576b"
             ],
             [
              0.6666666666666666,
              "#ed7953"
             ],
             [
              0.7777777777777778,
              "#fb9f3a"
             ],
             [
              0.8888888888888888,
              "#fdca26"
             ],
             [
              1,
              "#f0f921"
             ]
            ],
            "type": "histogram2dcontour"
           }
          ],
          "mesh3d": [
           {
            "colorbar": {
             "outlinewidth": 0,
             "ticks": ""
            },
            "type": "mesh3d"
           }
          ],
          "parcoords": [
           {
            "line": {
             "colorbar": {
              "outlinewidth": 0,
              "ticks": ""
             }
            },
            "type": "parcoords"
           }
          ],
          "pie": [
           {
            "automargin": true,
            "type": "pie"
           }
          ],
          "scatter": [
           {
            "fillpattern": {
             "fillmode": "overlay",
             "size": 10,
             "solidity": 0.2
            },
            "type": "scatter"
           }
          ],
          "scatter3d": [
           {
            "line": {
             "colorbar": {
              "outlinewidth": 0,
              "ticks": ""
             }
            },
            "marker": {
             "colorbar": {
              "outlinewidth": 0,
              "ticks": ""
             }
            },
            "type": "scatter3d"
           }
          ],
          "scattercarpet": [
           {
            "marker": {
             "colorbar": {
              "outlinewidth": 0,
              "ticks": ""
             }
            },
            "type": "scattercarpet"
           }
          ],
          "scattergeo": [
           {
            "marker": {
             "colorbar": {
              "outlinewidth": 0,
              "ticks": ""
             }
            },
            "type": "scattergeo"
           }
          ],
          "scattergl": [
           {
            "marker": {
             "colorbar": {
              "outlinewidth": 0,
              "ticks": ""
             }
            },
            "type": "scattergl"
           }
          ],
          "scattermapbox": [
           {
            "marker": {
             "colorbar": {
              "outlinewidth": 0,
              "ticks": ""
             }
            },
            "type": "scattermapbox"
           }
          ],
          "scatterpolar": [
           {
            "marker": {
             "colorbar": {
              "outlinewidth": 0,
              "ticks": ""
             }
            },
            "type": "scatterpolar"
           }
          ],
          "scatterpolargl": [
           {
            "marker": {
             "colorbar": {
              "outlinewidth": 0,
              "ticks": ""
             }
            },
            "type": "scatterpolargl"
           }
          ],
          "scatterternary": [
           {
            "marker": {
             "colorbar": {
              "outlinewidth": 0,
              "ticks": ""
             }
            },
            "type": "scatterternary"
           }
          ],
          "surface": [
           {
            "colorbar": {
             "outlinewidth": 0,
             "ticks": ""
            },
            "colorscale": [
             [
              0,
              "#0d0887"
             ],
             [
              0.1111111111111111,
              "#46039f"
             ],
             [
              0.2222222222222222,
              "#7201a8"
             ],
             [
              0.3333333333333333,
              "#9c179e"
             ],
             [
              0.4444444444444444,
              "#bd3786"
             ],
             [
              0.5555555555555556,
              "#d8576b"
             ],
             [
              0.6666666666666666,
              "#ed7953"
             ],
             [
              0.7777777777777778,
              "#fb9f3a"
             ],
             [
              0.8888888888888888,
              "#fdca26"
             ],
             [
              1,
              "#f0f921"
             ]
            ],
            "type": "surface"
           }
          ],
          "table": [
           {
            "cells": {
             "fill": {
              "color": "#EBF0F8"
             },
             "line": {
              "color": "white"
             }
            },
            "header": {
             "fill": {
              "color": "#C8D4E3"
             },
             "line": {
              "color": "white"
             }
            },
            "type": "table"
           }
          ]
         },
         "layout": {
          "annotationdefaults": {
           "arrowcolor": "#2a3f5f",
           "arrowhead": 0,
           "arrowwidth": 1
          },
          "autotypenumbers": "strict",
          "coloraxis": {
           "colorbar": {
            "outlinewidth": 0,
            "ticks": ""
           }
          },
          "colorscale": {
           "diverging": [
            [
             0,
             "#8e0152"
            ],
            [
             0.1,
             "#c51b7d"
            ],
            [
             0.2,
             "#de77ae"
            ],
            [
             0.3,
             "#f1b6da"
            ],
            [
             0.4,
             "#fde0ef"
            ],
            [
             0.5,
             "#f7f7f7"
            ],
            [
             0.6,
             "#e6f5d0"
            ],
            [
             0.7,
             "#b8e186"
            ],
            [
             0.8,
             "#7fbc41"
            ],
            [
             0.9,
             "#4d9221"
            ],
            [
             1,
             "#276419"
            ]
           ],
           "sequential": [
            [
             0,
             "#0d0887"
            ],
            [
             0.1111111111111111,
             "#46039f"
            ],
            [
             0.2222222222222222,
             "#7201a8"
            ],
            [
             0.3333333333333333,
             "#9c179e"
            ],
            [
             0.4444444444444444,
             "#bd3786"
            ],
            [
             0.5555555555555556,
             "#d8576b"
            ],
            [
             0.6666666666666666,
             "#ed7953"
            ],
            [
             0.7777777777777778,
             "#fb9f3a"
            ],
            [
             0.8888888888888888,
             "#fdca26"
            ],
            [
             1,
             "#f0f921"
            ]
           ],
           "sequentialminus": [
            [
             0,
             "#0d0887"
            ],
            [
             0.1111111111111111,
             "#46039f"
            ],
            [
             0.2222222222222222,
             "#7201a8"
            ],
            [
             0.3333333333333333,
             "#9c179e"
            ],
            [
             0.4444444444444444,
             "#bd3786"
            ],
            [
             0.5555555555555556,
             "#d8576b"
            ],
            [
             0.6666666666666666,
             "#ed7953"
            ],
            [
             0.7777777777777778,
             "#fb9f3a"
            ],
            [
             0.8888888888888888,
             "#fdca26"
            ],
            [
             1,
             "#f0f921"
            ]
           ]
          },
          "colorway": [
           "#636efa",
           "#EF553B",
           "#00cc96",
           "#ab63fa",
           "#FFA15A",
           "#19d3f3",
           "#FF6692",
           "#B6E880",
           "#FF97FF",
           "#FECB52"
          ],
          "font": {
           "color": "#2a3f5f"
          },
          "geo": {
           "bgcolor": "white",
           "lakecolor": "white",
           "landcolor": "#E5ECF6",
           "showlakes": true,
           "showland": true,
           "subunitcolor": "white"
          },
          "hoverlabel": {
           "align": "left"
          },
          "hovermode": "closest",
          "mapbox": {
           "style": "light"
          },
          "paper_bgcolor": "white",
          "plot_bgcolor": "#E5ECF6",
          "polar": {
           "angularaxis": {
            "gridcolor": "white",
            "linecolor": "white",
            "ticks": ""
           },
           "bgcolor": "#E5ECF6",
           "radialaxis": {
            "gridcolor": "white",
            "linecolor": "white",
            "ticks": ""
           }
          },
          "scene": {
           "xaxis": {
            "backgroundcolor": "#E5ECF6",
            "gridcolor": "white",
            "gridwidth": 2,
            "linecolor": "white",
            "showbackground": true,
            "ticks": "",
            "zerolinecolor": "white"
           },
           "yaxis": {
            "backgroundcolor": "#E5ECF6",
            "gridcolor": "white",
            "gridwidth": 2,
            "linecolor": "white",
            "showbackground": true,
            "ticks": "",
            "zerolinecolor": "white"
           },
           "zaxis": {
            "backgroundcolor": "#E5ECF6",
            "gridcolor": "white",
            "gridwidth": 2,
            "linecolor": "white",
            "showbackground": true,
            "ticks": "",
            "zerolinecolor": "white"
           }
          },
          "shapedefaults": {
           "line": {
            "color": "#2a3f5f"
           }
          },
          "ternary": {
           "aaxis": {
            "gridcolor": "white",
            "linecolor": "white",
            "ticks": ""
           },
           "baxis": {
            "gridcolor": "white",
            "linecolor": "white",
            "ticks": ""
           },
           "bgcolor": "#E5ECF6",
           "caxis": {
            "gridcolor": "white",
            "linecolor": "white",
            "ticks": ""
           }
          },
          "title": {
           "x": 0.05
          },
          "xaxis": {
           "automargin": true,
           "gridcolor": "white",
           "linecolor": "white",
           "ticks": "",
           "title": {
            "standoff": 15
           },
           "zerolinecolor": "white",
           "zerolinewidth": 2
          },
          "yaxis": {
           "automargin": true,
           "gridcolor": "white",
           "linecolor": "white",
           "ticks": "",
           "title": {
            "standoff": 15
           },
           "zerolinecolor": "white",
           "zerolinewidth": 2
          }
         }
        },
        "title": {
         "text": "Industry Distribution"
        },
        "xaxis": {
         "anchor": "y",
         "domain": [
          0,
          1
         ],
         "title": {
          "text": "Count"
         }
        },
        "yaxis": {
         "anchor": "x",
         "domain": [
          0,
          1
         ],
         "title": {
          "text": "Industry"
         }
        }
       }
      }
     },
     "metadata": {},
     "output_type": "display_data"
    }
   ],
   "source": [
    "# display the Industry distribution\n",
    "values = salary_df['Industry'].value_counts(\n",
    "    ascending=False).values\n",
    "\n",
    "keys = salary_df['Industry'].value_counts(\n",
    "    ascending=False).keys()\n",
    "\n",
    "bar_chart = px.bar(x=keys, y=values, color=values, text=values)\n",
    "\n",
    "bar_chart.update_layout(\n",
    "    yaxis_title=\"Industry\",\n",
    "    xaxis_title=\"Count\",\n",
    "    title=\"Industry Distribution\",\n",
    ")\n",
    "\n",
    "bar_chart.show()"
   ]
  },
  {
   "cell_type": "code",
   "execution_count": 15,
   "metadata": {},
   "outputs": [
    {
     "data": {
      "application/vnd.plotly.v1+json": {
       "config": {
        "plotlyServerURL": "https://plot.ly"
       },
       "data": [
        {
         "alignmentgroup": "True",
         "hovertemplate": "x=%{x}<br>y=%{y}<br>text=%{text}<br>color=%{marker.color}<extra></extra>",
         "legendgroup": "",
         "marker": {
          "color": [
           150,
           134,
           130,
           117,
           94,
           76,
           31,
           9,
           1
          ],
          "coloraxis": "coloraxis",
          "pattern": {
           "shape": ""
          }
         },
         "name": "",
         "offsetgroup": "",
         "orientation": "v",
         "showlegend": false,
         "text": [
          150,
          134,
          130,
          117,
          94,
          76,
          31,
          9,
          1
         ],
         "textposition": "auto",
         "type": "bar",
         "x": [
          "1001 to 5000 employees",
          "501 to 1000 employees",
          "10000+ employees",
          "201 to 500 employees",
          "51 to 200 employees",
          "5001 to 10000 employees",
          "1 to 50 employees",
          "Unknown",
          "-1"
         ],
         "xaxis": "x",
         "y": [
          150,
          134,
          130,
          117,
          94,
          76,
          31,
          9,
          1
         ],
         "yaxis": "y"
        }
       ],
       "layout": {
        "barmode": "relative",
        "coloraxis": {
         "colorbar": {
          "title": {
           "text": "color"
          }
         },
         "colorscale": [
          [
           0,
           "#0d0887"
          ],
          [
           0.1111111111111111,
           "#46039f"
          ],
          [
           0.2222222222222222,
           "#7201a8"
          ],
          [
           0.3333333333333333,
           "#9c179e"
          ],
          [
           0.4444444444444444,
           "#bd3786"
          ],
          [
           0.5555555555555556,
           "#d8576b"
          ],
          [
           0.6666666666666666,
           "#ed7953"
          ],
          [
           0.7777777777777778,
           "#fb9f3a"
          ],
          [
           0.8888888888888888,
           "#fdca26"
          ],
          [
           1,
           "#f0f921"
          ]
         ]
        },
        "legend": {
         "tracegroupgap": 0
        },
        "margin": {
         "t": 60
        },
        "template": {
         "data": {
          "bar": [
           {
            "error_x": {
             "color": "#2a3f5f"
            },
            "error_y": {
             "color": "#2a3f5f"
            },
            "marker": {
             "line": {
              "color": "#E5ECF6",
              "width": 0.5
             },
             "pattern": {
              "fillmode": "overlay",
              "size": 10,
              "solidity": 0.2
             }
            },
            "type": "bar"
           }
          ],
          "barpolar": [
           {
            "marker": {
             "line": {
              "color": "#E5ECF6",
              "width": 0.5
             },
             "pattern": {
              "fillmode": "overlay",
              "size": 10,
              "solidity": 0.2
             }
            },
            "type": "barpolar"
           }
          ],
          "carpet": [
           {
            "aaxis": {
             "endlinecolor": "#2a3f5f",
             "gridcolor": "white",
             "linecolor": "white",
             "minorgridcolor": "white",
             "startlinecolor": "#2a3f5f"
            },
            "baxis": {
             "endlinecolor": "#2a3f5f",
             "gridcolor": "white",
             "linecolor": "white",
             "minorgridcolor": "white",
             "startlinecolor": "#2a3f5f"
            },
            "type": "carpet"
           }
          ],
          "choropleth": [
           {
            "colorbar": {
             "outlinewidth": 0,
             "ticks": ""
            },
            "type": "choropleth"
           }
          ],
          "contour": [
           {
            "colorbar": {
             "outlinewidth": 0,
             "ticks": ""
            },
            "colorscale": [
             [
              0,
              "#0d0887"
             ],
             [
              0.1111111111111111,
              "#46039f"
             ],
             [
              0.2222222222222222,
              "#7201a8"
             ],
             [
              0.3333333333333333,
              "#9c179e"
             ],
             [
              0.4444444444444444,
              "#bd3786"
             ],
             [
              0.5555555555555556,
              "#d8576b"
             ],
             [
              0.6666666666666666,
              "#ed7953"
             ],
             [
              0.7777777777777778,
              "#fb9f3a"
             ],
             [
              0.8888888888888888,
              "#fdca26"
             ],
             [
              1,
              "#f0f921"
             ]
            ],
            "type": "contour"
           }
          ],
          "contourcarpet": [
           {
            "colorbar": {
             "outlinewidth": 0,
             "ticks": ""
            },
            "type": "contourcarpet"
           }
          ],
          "heatmap": [
           {
            "colorbar": {
             "outlinewidth": 0,
             "ticks": ""
            },
            "colorscale": [
             [
              0,
              "#0d0887"
             ],
             [
              0.1111111111111111,
              "#46039f"
             ],
             [
              0.2222222222222222,
              "#7201a8"
             ],
             [
              0.3333333333333333,
              "#9c179e"
             ],
             [
              0.4444444444444444,
              "#bd3786"
             ],
             [
              0.5555555555555556,
              "#d8576b"
             ],
             [
              0.6666666666666666,
              "#ed7953"
             ],
             [
              0.7777777777777778,
              "#fb9f3a"
             ],
             [
              0.8888888888888888,
              "#fdca26"
             ],
             [
              1,
              "#f0f921"
             ]
            ],
            "type": "heatmap"
           }
          ],
          "heatmapgl": [
           {
            "colorbar": {
             "outlinewidth": 0,
             "ticks": ""
            },
            "colorscale": [
             [
              0,
              "#0d0887"
             ],
             [
              0.1111111111111111,
              "#46039f"
             ],
             [
              0.2222222222222222,
              "#7201a8"
             ],
             [
              0.3333333333333333,
              "#9c179e"
             ],
             [
              0.4444444444444444,
              "#bd3786"
             ],
             [
              0.5555555555555556,
              "#d8576b"
             ],
             [
              0.6666666666666666,
              "#ed7953"
             ],
             [
              0.7777777777777778,
              "#fb9f3a"
             ],
             [
              0.8888888888888888,
              "#fdca26"
             ],
             [
              1,
              "#f0f921"
             ]
            ],
            "type": "heatmapgl"
           }
          ],
          "histogram": [
           {
            "marker": {
             "pattern": {
              "fillmode": "overlay",
              "size": 10,
              "solidity": 0.2
             }
            },
            "type": "histogram"
           }
          ],
          "histogram2d": [
           {
            "colorbar": {
             "outlinewidth": 0,
             "ticks": ""
            },
            "colorscale": [
             [
              0,
              "#0d0887"
             ],
             [
              0.1111111111111111,
              "#46039f"
             ],
             [
              0.2222222222222222,
              "#7201a8"
             ],
             [
              0.3333333333333333,
              "#9c179e"
             ],
             [
              0.4444444444444444,
              "#bd3786"
             ],
             [
              0.5555555555555556,
              "#d8576b"
             ],
             [
              0.6666666666666666,
              "#ed7953"
             ],
             [
              0.7777777777777778,
              "#fb9f3a"
             ],
             [
              0.8888888888888888,
              "#fdca26"
             ],
             [
              1,
              "#f0f921"
             ]
            ],
            "type": "histogram2d"
           }
          ],
          "histogram2dcontour": [
           {
            "colorbar": {
             "outlinewidth": 0,
             "ticks": ""
            },
            "colorscale": [
             [
              0,
              "#0d0887"
             ],
             [
              0.1111111111111111,
              "#46039f"
             ],
             [
              0.2222222222222222,
              "#7201a8"
             ],
             [
              0.3333333333333333,
              "#9c179e"
             ],
             [
              0.4444444444444444,
              "#bd3786"
             ],
             [
              0.5555555555555556,
              "#d8576b"
             ],
             [
              0.6666666666666666,
              "#ed7953"
             ],
             [
              0.7777777777777778,
              "#fb9f3a"
             ],
             [
              0.8888888888888888,
              "#fdca26"
             ],
             [
              1,
              "#f0f921"
             ]
            ],
            "type": "histogram2dcontour"
           }
          ],
          "mesh3d": [
           {
            "colorbar": {
             "outlinewidth": 0,
             "ticks": ""
            },
            "type": "mesh3d"
           }
          ],
          "parcoords": [
           {
            "line": {
             "colorbar": {
              "outlinewidth": 0,
              "ticks": ""
             }
            },
            "type": "parcoords"
           }
          ],
          "pie": [
           {
            "automargin": true,
            "type": "pie"
           }
          ],
          "scatter": [
           {
            "fillpattern": {
             "fillmode": "overlay",
             "size": 10,
             "solidity": 0.2
            },
            "type": "scatter"
           }
          ],
          "scatter3d": [
           {
            "line": {
             "colorbar": {
              "outlinewidth": 0,
              "ticks": ""
             }
            },
            "marker": {
             "colorbar": {
              "outlinewidth": 0,
              "ticks": ""
             }
            },
            "type": "scatter3d"
           }
          ],
          "scattercarpet": [
           {
            "marker": {
             "colorbar": {
              "outlinewidth": 0,
              "ticks": ""
             }
            },
            "type": "scattercarpet"
           }
          ],
          "scattergeo": [
           {
            "marker": {
             "colorbar": {
              "outlinewidth": 0,
              "ticks": ""
             }
            },
            "type": "scattergeo"
           }
          ],
          "scattergl": [
           {
            "marker": {
             "colorbar": {
              "outlinewidth": 0,
              "ticks": ""
             }
            },
            "type": "scattergl"
           }
          ],
          "scattermapbox": [
           {
            "marker": {
             "colorbar": {
              "outlinewidth": 0,
              "ticks": ""
             }
            },
            "type": "scattermapbox"
           }
          ],
          "scatterpolar": [
           {
            "marker": {
             "colorbar": {
              "outlinewidth": 0,
              "ticks": ""
             }
            },
            "type": "scatterpolar"
           }
          ],
          "scatterpolargl": [
           {
            "marker": {
             "colorbar": {
              "outlinewidth": 0,
              "ticks": ""
             }
            },
            "type": "scatterpolargl"
           }
          ],
          "scatterternary": [
           {
            "marker": {
             "colorbar": {
              "outlinewidth": 0,
              "ticks": ""
             }
            },
            "type": "scatterternary"
           }
          ],
          "surface": [
           {
            "colorbar": {
             "outlinewidth": 0,
             "ticks": ""
            },
            "colorscale": [
             [
              0,
              "#0d0887"
             ],
             [
              0.1111111111111111,
              "#46039f"
             ],
             [
              0.2222222222222222,
              "#7201a8"
             ],
             [
              0.3333333333333333,
              "#9c179e"
             ],
             [
              0.4444444444444444,
              "#bd3786"
             ],
             [
              0.5555555555555556,
              "#d8576b"
             ],
             [
              0.6666666666666666,
              "#ed7953"
             ],
             [
              0.7777777777777778,
              "#fb9f3a"
             ],
             [
              0.8888888888888888,
              "#fdca26"
             ],
             [
              1,
              "#f0f921"
             ]
            ],
            "type": "surface"
           }
          ],
          "table": [
           {
            "cells": {
             "fill": {
              "color": "#EBF0F8"
             },
             "line": {
              "color": "white"
             }
            },
            "header": {
             "fill": {
              "color": "#C8D4E3"
             },
             "line": {
              "color": "white"
             }
            },
            "type": "table"
           }
          ]
         },
         "layout": {
          "annotationdefaults": {
           "arrowcolor": "#2a3f5f",
           "arrowhead": 0,
           "arrowwidth": 1
          },
          "autotypenumbers": "strict",
          "coloraxis": {
           "colorbar": {
            "outlinewidth": 0,
            "ticks": ""
           }
          },
          "colorscale": {
           "diverging": [
            [
             0,
             "#8e0152"
            ],
            [
             0.1,
             "#c51b7d"
            ],
            [
             0.2,
             "#de77ae"
            ],
            [
             0.3,
             "#f1b6da"
            ],
            [
             0.4,
             "#fde0ef"
            ],
            [
             0.5,
             "#f7f7f7"
            ],
            [
             0.6,
             "#e6f5d0"
            ],
            [
             0.7,
             "#b8e186"
            ],
            [
             0.8,
             "#7fbc41"
            ],
            [
             0.9,
             "#4d9221"
            ],
            [
             1,
             "#276419"
            ]
           ],
           "sequential": [
            [
             0,
             "#0d0887"
            ],
            [
             0.1111111111111111,
             "#46039f"
            ],
            [
             0.2222222222222222,
             "#7201a8"
            ],
            [
             0.3333333333333333,
             "#9c179e"
            ],
            [
             0.4444444444444444,
             "#bd3786"
            ],
            [
             0.5555555555555556,
             "#d8576b"
            ],
            [
             0.6666666666666666,
             "#ed7953"
            ],
            [
             0.7777777777777778,
             "#fb9f3a"
            ],
            [
             0.8888888888888888,
             "#fdca26"
            ],
            [
             1,
             "#f0f921"
            ]
           ],
           "sequentialminus": [
            [
             0,
             "#0d0887"
            ],
            [
             0.1111111111111111,
             "#46039f"
            ],
            [
             0.2222222222222222,
             "#7201a8"
            ],
            [
             0.3333333333333333,
             "#9c179e"
            ],
            [
             0.4444444444444444,
             "#bd3786"
            ],
            [
             0.5555555555555556,
             "#d8576b"
            ],
            [
             0.6666666666666666,
             "#ed7953"
            ],
            [
             0.7777777777777778,
             "#fb9f3a"
            ],
            [
             0.8888888888888888,
             "#fdca26"
            ],
            [
             1,
             "#f0f921"
            ]
           ]
          },
          "colorway": [
           "#636efa",
           "#EF553B",
           "#00cc96",
           "#ab63fa",
           "#FFA15A",
           "#19d3f3",
           "#FF6692",
           "#B6E880",
           "#FF97FF",
           "#FECB52"
          ],
          "font": {
           "color": "#2a3f5f"
          },
          "geo": {
           "bgcolor": "white",
           "lakecolor": "white",
           "landcolor": "#E5ECF6",
           "showlakes": true,
           "showland": true,
           "subunitcolor": "white"
          },
          "hoverlabel": {
           "align": "left"
          },
          "hovermode": "closest",
          "mapbox": {
           "style": "light"
          },
          "paper_bgcolor": "white",
          "plot_bgcolor": "#E5ECF6",
          "polar": {
           "angularaxis": {
            "gridcolor": "white",
            "linecolor": "white",
            "ticks": ""
           },
           "bgcolor": "#E5ECF6",
           "radialaxis": {
            "gridcolor": "white",
            "linecolor": "white",
            "ticks": ""
           }
          },
          "scene": {
           "xaxis": {
            "backgroundcolor": "#E5ECF6",
            "gridcolor": "white",
            "gridwidth": 2,
            "linecolor": "white",
            "showbackground": true,
            "ticks": "",
            "zerolinecolor": "white"
           },
           "yaxis": {
            "backgroundcolor": "#E5ECF6",
            "gridcolor": "white",
            "gridwidth": 2,
            "linecolor": "white",
            "showbackground": true,
            "ticks": "",
            "zerolinecolor": "white"
           },
           "zaxis": {
            "backgroundcolor": "#E5ECF6",
            "gridcolor": "white",
            "gridwidth": 2,
            "linecolor": "white",
            "showbackground": true,
            "ticks": "",
            "zerolinecolor": "white"
           }
          },
          "shapedefaults": {
           "line": {
            "color": "#2a3f5f"
           }
          },
          "ternary": {
           "aaxis": {
            "gridcolor": "white",
            "linecolor": "white",
            "ticks": ""
           },
           "baxis": {
            "gridcolor": "white",
            "linecolor": "white",
            "ticks": ""
           },
           "bgcolor": "#E5ECF6",
           "caxis": {
            "gridcolor": "white",
            "linecolor": "white",
            "ticks": ""
           }
          },
          "title": {
           "x": 0.05
          },
          "xaxis": {
           "automargin": true,
           "gridcolor": "white",
           "linecolor": "white",
           "ticks": "",
           "title": {
            "standoff": 15
           },
           "zerolinecolor": "white",
           "zerolinewidth": 2
          },
          "yaxis": {
           "automargin": true,
           "gridcolor": "white",
           "linecolor": "white",
           "ticks": "",
           "title": {
            "standoff": 15
           },
           "zerolinecolor": "white",
           "zerolinewidth": 2
          }
         }
        },
        "title": {
         "text": "Size Distribution"
        },
        "xaxis": {
         "anchor": "y",
         "domain": [
          0,
          1
         ],
         "title": {
          "text": "Count"
         }
        },
        "yaxis": {
         "anchor": "x",
         "domain": [
          0,
          1
         ],
         "title": {
          "text": "Size"
         }
        }
       }
      }
     },
     "metadata": {},
     "output_type": "display_data"
    }
   ],
   "source": [
    "# display the Size\n",
    "values = salary_df['Size'].value_counts(\n",
    "    ascending=False).values\n",
    "\n",
    "keys = salary_df['Size'].value_counts(\n",
    "    ascending=False).keys()\n",
    "\n",
    "bar_chart = px.bar(x=keys, y=values, color=values, text=values)\n",
    "\n",
    "bar_chart.update_layout(\n",
    "    yaxis_title=\"Size\",\n",
    "    xaxis_title=\"Count\",\n",
    "    title=\"Size Distribution\",\n",
    ")\n",
    "\n",
    "bar_chart.show()"
   ]
  },
  {
   "cell_type": "code",
   "execution_count": 16,
   "metadata": {},
   "outputs": [
    {
     "data": {
      "application/vnd.plotly.v1+json": {
       "config": {
        "plotlyServerURL": "https://plot.ly"
       },
       "data": [
        {
         "alignmentgroup": "True",
         "hovertemplate": "seniority=%{x}<br>avg_salary=%{marker.color}<extra></extra>",
         "legendgroup": "",
         "marker": {
          "color": [
           81.5,
           91.84134615384616,
           121.56363636363636
          ],
          "coloraxis": "coloraxis",
          "pattern": {
           "shape": ""
          }
         },
         "name": "",
         "offsetgroup": "",
         "orientation": "v",
         "showlegend": false,
         "text": [
          81.5,
          91.84134615384616,
          121.56363636363636
         ],
         "textposition": "auto",
         "type": "bar",
         "x": [
          "jr",
          "na",
          "senior"
         ],
         "xaxis": "x",
         "y": [
          81.5,
          91.84134615384616,
          121.56363636363636
         ],
         "yaxis": "y"
        }
       ],
       "layout": {
        "barmode": "relative",
        "coloraxis": {
         "colorbar": {
          "title": {
           "text": "avg_salary"
          }
         },
         "colorscale": [
          [
           0,
           "#0d0887"
          ],
          [
           0.1111111111111111,
           "#46039f"
          ],
          [
           0.2222222222222222,
           "#7201a8"
          ],
          [
           0.3333333333333333,
           "#9c179e"
          ],
          [
           0.4444444444444444,
           "#bd3786"
          ],
          [
           0.5555555555555556,
           "#d8576b"
          ],
          [
           0.6666666666666666,
           "#ed7953"
          ],
          [
           0.7777777777777778,
           "#fb9f3a"
          ],
          [
           0.8888888888888888,
           "#fdca26"
          ],
          [
           1,
           "#f0f921"
          ]
         ]
        },
        "legend": {
         "title": {
          "text": "Average Salary"
         },
         "tracegroupgap": 0
        },
        "template": {
         "data": {
          "bar": [
           {
            "error_x": {
             "color": "#2a3f5f"
            },
            "error_y": {
             "color": "#2a3f5f"
            },
            "marker": {
             "line": {
              "color": "#E5ECF6",
              "width": 0.5
             },
             "pattern": {
              "fillmode": "overlay",
              "size": 10,
              "solidity": 0.2
             }
            },
            "type": "bar"
           }
          ],
          "barpolar": [
           {
            "marker": {
             "line": {
              "color": "#E5ECF6",
              "width": 0.5
             },
             "pattern": {
              "fillmode": "overlay",
              "size": 10,
              "solidity": 0.2
             }
            },
            "type": "barpolar"
           }
          ],
          "carpet": [
           {
            "aaxis": {
             "endlinecolor": "#2a3f5f",
             "gridcolor": "white",
             "linecolor": "white",
             "minorgridcolor": "white",
             "startlinecolor": "#2a3f5f"
            },
            "baxis": {
             "endlinecolor": "#2a3f5f",
             "gridcolor": "white",
             "linecolor": "white",
             "minorgridcolor": "white",
             "startlinecolor": "#2a3f5f"
            },
            "type": "carpet"
           }
          ],
          "choropleth": [
           {
            "colorbar": {
             "outlinewidth": 0,
             "ticks": ""
            },
            "type": "choropleth"
           }
          ],
          "contour": [
           {
            "colorbar": {
             "outlinewidth": 0,
             "ticks": ""
            },
            "colorscale": [
             [
              0,
              "#0d0887"
             ],
             [
              0.1111111111111111,
              "#46039f"
             ],
             [
              0.2222222222222222,
              "#7201a8"
             ],
             [
              0.3333333333333333,
              "#9c179e"
             ],
             [
              0.4444444444444444,
              "#bd3786"
             ],
             [
              0.5555555555555556,
              "#d8576b"
             ],
             [
              0.6666666666666666,
              "#ed7953"
             ],
             [
              0.7777777777777778,
              "#fb9f3a"
             ],
             [
              0.8888888888888888,
              "#fdca26"
             ],
             [
              1,
              "#f0f921"
             ]
            ],
            "type": "contour"
           }
          ],
          "contourcarpet": [
           {
            "colorbar": {
             "outlinewidth": 0,
             "ticks": ""
            },
            "type": "contourcarpet"
           }
          ],
          "heatmap": [
           {
            "colorbar": {
             "outlinewidth": 0,
             "ticks": ""
            },
            "colorscale": [
             [
              0,
              "#0d0887"
             ],
             [
              0.1111111111111111,
              "#46039f"
             ],
             [
              0.2222222222222222,
              "#7201a8"
             ],
             [
              0.3333333333333333,
              "#9c179e"
             ],
             [
              0.4444444444444444,
              "#bd3786"
             ],
             [
              0.5555555555555556,
              "#d8576b"
             ],
             [
              0.6666666666666666,
              "#ed7953"
             ],
             [
              0.7777777777777778,
              "#fb9f3a"
             ],
             [
              0.8888888888888888,
              "#fdca26"
             ],
             [
              1,
              "#f0f921"
             ]
            ],
            "type": "heatmap"
           }
          ],
          "heatmapgl": [
           {
            "colorbar": {
             "outlinewidth": 0,
             "ticks": ""
            },
            "colorscale": [
             [
              0,
              "#0d0887"
             ],
             [
              0.1111111111111111,
              "#46039f"
             ],
             [
              0.2222222222222222,
              "#7201a8"
             ],
             [
              0.3333333333333333,
              "#9c179e"
             ],
             [
              0.4444444444444444,
              "#bd3786"
             ],
             [
              0.5555555555555556,
              "#d8576b"
             ],
             [
              0.6666666666666666,
              "#ed7953"
             ],
             [
              0.7777777777777778,
              "#fb9f3a"
             ],
             [
              0.8888888888888888,
              "#fdca26"
             ],
             [
              1,
              "#f0f921"
             ]
            ],
            "type": "heatmapgl"
           }
          ],
          "histogram": [
           {
            "marker": {
             "pattern": {
              "fillmode": "overlay",
              "size": 10,
              "solidity": 0.2
             }
            },
            "type": "histogram"
           }
          ],
          "histogram2d": [
           {
            "colorbar": {
             "outlinewidth": 0,
             "ticks": ""
            },
            "colorscale": [
             [
              0,
              "#0d0887"
             ],
             [
              0.1111111111111111,
              "#46039f"
             ],
             [
              0.2222222222222222,
              "#7201a8"
             ],
             [
              0.3333333333333333,
              "#9c179e"
             ],
             [
              0.4444444444444444,
              "#bd3786"
             ],
             [
              0.5555555555555556,
              "#d8576b"
             ],
             [
              0.6666666666666666,
              "#ed7953"
             ],
             [
              0.7777777777777778,
              "#fb9f3a"
             ],
             [
              0.8888888888888888,
              "#fdca26"
             ],
             [
              1,
              "#f0f921"
             ]
            ],
            "type": "histogram2d"
           }
          ],
          "histogram2dcontour": [
           {
            "colorbar": {
             "outlinewidth": 0,
             "ticks": ""
            },
            "colorscale": [
             [
              0,
              "#0d0887"
             ],
             [
              0.1111111111111111,
              "#46039f"
             ],
             [
              0.2222222222222222,
              "#7201a8"
             ],
             [
              0.3333333333333333,
              "#9c179e"
             ],
             [
              0.4444444444444444,
              "#bd3786"
             ],
             [
              0.5555555555555556,
              "#d8576b"
             ],
             [
              0.6666666666666666,
              "#ed7953"
             ],
             [
              0.7777777777777778,
              "#fb9f3a"
             ],
             [
              0.8888888888888888,
              "#fdca26"
             ],
             [
              1,
              "#f0f921"
             ]
            ],
            "type": "histogram2dcontour"
           }
          ],
          "mesh3d": [
           {
            "colorbar": {
             "outlinewidth": 0,
             "ticks": ""
            },
            "type": "mesh3d"
           }
          ],
          "parcoords": [
           {
            "line": {
             "colorbar": {
              "outlinewidth": 0,
              "ticks": ""
             }
            },
            "type": "parcoords"
           }
          ],
          "pie": [
           {
            "automargin": true,
            "type": "pie"
           }
          ],
          "scatter": [
           {
            "fillpattern": {
             "fillmode": "overlay",
             "size": 10,
             "solidity": 0.2
            },
            "type": "scatter"
           }
          ],
          "scatter3d": [
           {
            "line": {
             "colorbar": {
              "outlinewidth": 0,
              "ticks": ""
             }
            },
            "marker": {
             "colorbar": {
              "outlinewidth": 0,
              "ticks": ""
             }
            },
            "type": "scatter3d"
           }
          ],
          "scattercarpet": [
           {
            "marker": {
             "colorbar": {
              "outlinewidth": 0,
              "ticks": ""
             }
            },
            "type": "scattercarpet"
           }
          ],
          "scattergeo": [
           {
            "marker": {
             "colorbar": {
              "outlinewidth": 0,
              "ticks": ""
             }
            },
            "type": "scattergeo"
           }
          ],
          "scattergl": [
           {
            "marker": {
             "colorbar": {
              "outlinewidth": 0,
              "ticks": ""
             }
            },
            "type": "scattergl"
           }
          ],
          "scattermapbox": [
           {
            "marker": {
             "colorbar": {
              "outlinewidth": 0,
              "ticks": ""
             }
            },
            "type": "scattermapbox"
           }
          ],
          "scatterpolar": [
           {
            "marker": {
             "colorbar": {
              "outlinewidth": 0,
              "ticks": ""
             }
            },
            "type": "scatterpolar"
           }
          ],
          "scatterpolargl": [
           {
            "marker": {
             "colorbar": {
              "outlinewidth": 0,
              "ticks": ""
             }
            },
            "type": "scatterpolargl"
           }
          ],
          "scatterternary": [
           {
            "marker": {
             "colorbar": {
              "outlinewidth": 0,
              "ticks": ""
             }
            },
            "type": "scatterternary"
           }
          ],
          "surface": [
           {
            "colorbar": {
             "outlinewidth": 0,
             "ticks": ""
            },
            "colorscale": [
             [
              0,
              "#0d0887"
             ],
             [
              0.1111111111111111,
              "#46039f"
             ],
             [
              0.2222222222222222,
              "#7201a8"
             ],
             [
              0.3333333333333333,
              "#9c179e"
             ],
             [
              0.4444444444444444,
              "#bd3786"
             ],
             [
              0.5555555555555556,
              "#d8576b"
             ],
             [
              0.6666666666666666,
              "#ed7953"
             ],
             [
              0.7777777777777778,
              "#fb9f3a"
             ],
             [
              0.8888888888888888,
              "#fdca26"
             ],
             [
              1,
              "#f0f921"
             ]
            ],
            "type": "surface"
           }
          ],
          "table": [
           {
            "cells": {
             "fill": {
              "color": "#EBF0F8"
             },
             "line": {
              "color": "white"
             }
            },
            "header": {
             "fill": {
              "color": "#C8D4E3"
             },
             "line": {
              "color": "white"
             }
            },
            "type": "table"
           }
          ]
         },
         "layout": {
          "annotationdefaults": {
           "arrowcolor": "#2a3f5f",
           "arrowhead": 0,
           "arrowwidth": 1
          },
          "autotypenumbers": "strict",
          "coloraxis": {
           "colorbar": {
            "outlinewidth": 0,
            "ticks": ""
           }
          },
          "colorscale": {
           "diverging": [
            [
             0,
             "#8e0152"
            ],
            [
             0.1,
             "#c51b7d"
            ],
            [
             0.2,
             "#de77ae"
            ],
            [
             0.3,
             "#f1b6da"
            ],
            [
             0.4,
             "#fde0ef"
            ],
            [
             0.5,
             "#f7f7f7"
            ],
            [
             0.6,
             "#e6f5d0"
            ],
            [
             0.7,
             "#b8e186"
            ],
            [
             0.8,
             "#7fbc41"
            ],
            [
             0.9,
             "#4d9221"
            ],
            [
             1,
             "#276419"
            ]
           ],
           "sequential": [
            [
             0,
             "#0d0887"
            ],
            [
             0.1111111111111111,
             "#46039f"
            ],
            [
             0.2222222222222222,
             "#7201a8"
            ],
            [
             0.3333333333333333,
             "#9c179e"
            ],
            [
             0.4444444444444444,
             "#bd3786"
            ],
            [
             0.5555555555555556,
             "#d8576b"
            ],
            [
             0.6666666666666666,
             "#ed7953"
            ],
            [
             0.7777777777777778,
             "#fb9f3a"
            ],
            [
             0.8888888888888888,
             "#fdca26"
            ],
            [
             1,
             "#f0f921"
            ]
           ],
           "sequentialminus": [
            [
             0,
             "#0d0887"
            ],
            [
             0.1111111111111111,
             "#46039f"
            ],
            [
             0.2222222222222222,
             "#7201a8"
            ],
            [
             0.3333333333333333,
             "#9c179e"
            ],
            [
             0.4444444444444444,
             "#bd3786"
            ],
            [
             0.5555555555555556,
             "#d8576b"
            ],
            [
             0.6666666666666666,
             "#ed7953"
            ],
            [
             0.7777777777777778,
             "#fb9f3a"
            ],
            [
             0.8888888888888888,
             "#fdca26"
            ],
            [
             1,
             "#f0f921"
            ]
           ]
          },
          "colorway": [
           "#636efa",
           "#EF553B",
           "#00cc96",
           "#ab63fa",
           "#FFA15A",
           "#19d3f3",
           "#FF6692",
           "#B6E880",
           "#FF97FF",
           "#FECB52"
          ],
          "font": {
           "color": "#2a3f5f"
          },
          "geo": {
           "bgcolor": "white",
           "lakecolor": "white",
           "landcolor": "#E5ECF6",
           "showlakes": true,
           "showland": true,
           "subunitcolor": "white"
          },
          "hoverlabel": {
           "align": "left"
          },
          "hovermode": "closest",
          "mapbox": {
           "style": "light"
          },
          "paper_bgcolor": "white",
          "plot_bgcolor": "#E5ECF6",
          "polar": {
           "angularaxis": {
            "gridcolor": "white",
            "linecolor": "white",
            "ticks": ""
           },
           "bgcolor": "#E5ECF6",
           "radialaxis": {
            "gridcolor": "white",
            "linecolor": "white",
            "ticks": ""
           }
          },
          "scene": {
           "xaxis": {
            "backgroundcolor": "#E5ECF6",
            "gridcolor": "white",
            "gridwidth": 2,
            "linecolor": "white",
            "showbackground": true,
            "ticks": "",
            "zerolinecolor": "white"
           },
           "yaxis": {
            "backgroundcolor": "#E5ECF6",
            "gridcolor": "white",
            "gridwidth": 2,
            "linecolor": "white",
            "showbackground": true,
            "ticks": "",
            "zerolinecolor": "white"
           },
           "zaxis": {
            "backgroundcolor": "#E5ECF6",
            "gridcolor": "white",
            "gridwidth": 2,
            "linecolor": "white",
            "showbackground": true,
            "ticks": "",
            "zerolinecolor": "white"
           }
          },
          "shapedefaults": {
           "line": {
            "color": "#2a3f5f"
           }
          },
          "ternary": {
           "aaxis": {
            "gridcolor": "white",
            "linecolor": "white",
            "ticks": ""
           },
           "baxis": {
            "gridcolor": "white",
            "linecolor": "white",
            "ticks": ""
           },
           "bgcolor": "#E5ECF6",
           "caxis": {
            "gridcolor": "white",
            "linecolor": "white",
            "ticks": ""
           }
          },
          "title": {
           "x": 0.05
          },
          "xaxis": {
           "automargin": true,
           "gridcolor": "white",
           "linecolor": "white",
           "ticks": "",
           "title": {
            "standoff": 15
           },
           "zerolinecolor": "white",
           "zerolinewidth": 2
          },
          "yaxis": {
           "automargin": true,
           "gridcolor": "white",
           "linecolor": "white",
           "ticks": "",
           "title": {
            "standoff": 15
           },
           "zerolinecolor": "white",
           "zerolinewidth": 2
          }
         }
        },
        "title": {
         "text": "Average Salary by Seniority"
        },
        "xaxis": {
         "anchor": "y",
         "domain": [
          0,
          1
         ],
         "title": {
          "text": "Seniority"
         }
        },
        "yaxis": {
         "anchor": "x",
         "domain": [
          0,
          1
         ],
         "title": {
          "text": "Average Salary"
         }
        }
       }
      }
     },
     "metadata": {},
     "output_type": "display_data"
    }
   ],
   "source": [
    "# Calculate average salary for each seniority group\n",
    "average_salaries = salary_df.groupby('seniority')['avg_salary'].mean().reset_index()\n",
    "\n",
    "# Create a bar chart\n",
    "bar_chart = px.bar(\n",
    "    average_salaries,\n",
    "    x='seniority', \n",
    "    y='avg_salary',\n",
    "    text='avg_salary',\n",
    "    color='avg_salary',\n",
    "    title=\"Average Salary by Seniority\"\n",
    ")\n",
    "\n",
    "# Customize layout\n",
    "bar_chart.update_layout(\n",
    "    xaxis_title=\"Seniority\",\n",
    "    yaxis_title=\"Average Salary\",\n",
    "    legend_title=\"Average Salary\"\n",
    ")\n",
    "\n",
    "bar_chart.show()\n"
   ]
  },
  {
   "cell_type": "markdown",
   "metadata": {},
   "source": [
    "#### Data Preprocessing"
   ]
  },
  {
   "cell_type": "markdown",
   "metadata": {},
   "source": [
    "##### Column Headers Manipulation"
   ]
  },
  {
   "cell_type": "code",
   "execution_count": 17,
   "metadata": {},
   "outputs": [],
   "source": [
    "# put all columns into lowercase, replace spaces with underscores\n",
    "salary_df.columns = header_manipulation(salary_df)\n",
    "\n",
    "# drop the unnamed column\n",
    "salary_df = salary_df.drop(columns=['unnamed:_0'])"
   ]
  },
  {
   "cell_type": "code",
   "execution_count": 18,
   "metadata": {},
   "outputs": [
    {
     "name": "stdout",
     "output_type": "stream",
     "text": [
      "<class 'pandas.core.frame.DataFrame'>\n",
      "RangeIndex: 742 entries, 0 to 741\n",
      "Data columns (total 19 columns):\n",
      " #   Column             Non-Null Count  Dtype  \n",
      "---  ------             --------------  -----  \n",
      " 0   job_title          742 non-null    object \n",
      " 1   location           742 non-null    object \n",
      " 2   size               742 non-null    object \n",
      " 3   type_of_ownership  742 non-null    object \n",
      " 4   industry           742 non-null    object \n",
      " 5   sector             742 non-null    object \n",
      " 6   hourly             742 non-null    bool   \n",
      " 7   employer_provided  742 non-null    bool   \n",
      " 8   min_salary         742 non-null    int64  \n",
      " 9   max_salary         742 non-null    int64  \n",
      " 10  avg_salary         742 non-null    float64\n",
      " 11  job_state          742 non-null    object \n",
      " 12  python_yn          742 non-null    bool   \n",
      " 13  r_yn               742 non-null    bool   \n",
      " 14  spark              742 non-null    bool   \n",
      " 15  aws                742 non-null    bool   \n",
      " 16  excel              742 non-null    bool   \n",
      " 17  job_simp           742 non-null    object \n",
      " 18  seniority          742 non-null    object \n",
      "dtypes: bool(7), float64(1), int64(2), object(9)\n",
      "memory usage: 74.8+ KB\n"
     ]
    }
   ],
   "source": [
    "# ensure the boolean columns are present in the DataFrame\n",
    "boolean_columns = pd.Index(boolean_columns).str.lower()\n",
    "boolean_columns = boolean_columns.intersection(salary_df.columns)\n",
    "\n",
    "# change the data types for the boolean columns\n",
    "salary_df[boolean_columns] = salary_df[boolean_columns].astype(bool)\n",
    "\n",
    "salary_df.info()"
   ]
  },
  {
   "cell_type": "markdown",
   "metadata": {},
   "source": [
    "##### Column Transformation"
   ]
  },
  {
   "cell_type": "code",
   "execution_count": 19,
   "metadata": {},
   "outputs": [
    {
     "name": "stdout",
     "output_type": "stream",
     "text": [
      "Categorical columns length: 9 \n",
      "Numerical columns length: 3 \n",
      "Boolean columns length: 7\n",
      "Categorical columns: Index(['job_title', 'location', 'size', 'type_of_ownership', 'industry',\n",
      "       'sector', 'job_state', 'job_simp', 'seniority'],\n",
      "      dtype='object') \n",
      "Numerical columns: Index(['min_salary', 'max_salary', 'avg_salary'], dtype='object') \n",
      "Boolean columns: Index(['hourly', 'employer_provided', 'python_yn', 'r_yn', 'spark', 'aws',\n",
      "       'excel'],\n",
      "      dtype='object')\n"
     ]
    }
   ],
   "source": [
    "# set the categorical columns\n",
    "categorical_columns = salary_df.select_dtypes(include='object').columns\n",
    "\n",
    "# set the updated numerical columns\n",
    "numerical_columns = salary_df.select_dtypes(include=['int64', 'float64']).columns\n",
    "\n",
    "# set the updated boolean columns\n",
    "boolean_columns = salary_df.select_dtypes(include='bool').columns\n",
    "\n",
    "print(f\"Categorical columns length: {len(categorical_columns)} \\nNumerical columns length: {len(numerical_columns)} \\nBoolean columns length: {len(boolean_columns)}\")\n",
    "print(f\"Categorical columns: {categorical_columns} \\nNumerical columns: {numerical_columns} \\nBoolean columns: {boolean_columns}\")"
   ]
  },
  {
   "cell_type": "code",
   "execution_count": 20,
   "metadata": {},
   "outputs": [],
   "source": [
    "# Preprocess features using Column Transformer and Pipeline\n",
    "preprocessor = ColumnTransformer(\n",
    "    transformers=[\n",
    "        ('cat', OneHotEncoder(handle_unknown='ignore'), categorical_columns),\n",
    "        # ('num', StandardScaler(), numerical_columns),\n",
    "        ('bool', 'passthrough', boolean_columns)\n",
    "    ]\n",
    ")\n",
    "\n",
    "# Pipeline with Linear Regression\n",
    "lr_pipeline = Pipeline([\n",
    "    ('preprocessing', preprocessor),\n",
    "    ('lr_model', LinearRegression())\n",
    "])\n",
    "\n",
    "# Pipeline with Random Forest Regressor\n",
    "rf_pipeline = Pipeline([\n",
    "    ('preprocessing', preprocessor),\n",
    "    ('rf_model', RandomForestRegressor(n_estimators=100, random_state=42))\n",
    "])"
   ]
  },
  {
   "cell_type": "markdown",
   "metadata": {},
   "source": [
    "#### Model Building, Training and Hyperparameter Tuning"
   ]
  },
  {
   "cell_type": "code",
   "execution_count": 21,
   "metadata": {},
   "outputs": [],
   "source": [
    "# set the features and the target\n",
    "X = salary_df.drop(columns=['avg_salary'])\n",
    "y = salary_df['avg_salary']\n",
    "\n",
    "# set the stratified Kflod\n",
    "from sklearn.model_selection import KFold\n",
    "\n",
    "kfold = KFold(n_splits=10, shuffle=True, random_state=42)"
   ]
  },
  {
   "cell_type": "code",
   "execution_count": 22,
   "metadata": {},
   "outputs": [
    {
     "name": "stdout",
     "output_type": "stream",
     "text": [
      "+-------------------+---------+-------+\n",
      "|    Model Name     |   MSE   |  R²   |\n",
      "+-------------------+---------+-------+\n",
      "| Linear Regression | 534.887 | 0.624 |\n",
      "|   Random Forest   | 330.644 | 0.766 |\n",
      "+-------------------+---------+-------+\n"
     ]
    }
   ],
   "source": [
    "# Cross-validation for Linear Regression\n",
    "lr_scores = cross_validate(\n",
    "    estimator=lr_pipeline,\n",
    "    X=X,\n",
    "    y=y,\n",
    "    cv=kfold,\n",
    "    scoring=['neg_mean_squared_error', 'r2'],\n",
    ")\n",
    "\n",
    "# get the MSE\n",
    "lr_mse = f\"{-lr_scores['test_neg_mean_squared_error'].mean():.3f}\"\n",
    "\n",
    "# get the R²\n",
    "lr_r2 = f\"{lr_scores['test_r2'].mean():.3f}\"\n",
    "\n",
    "\n",
    "# Cross-validation for Random Forest Regressor\n",
    "rf_scores = cross_validate(\n",
    "    estimator=rf_pipeline,\n",
    "    X=X,\n",
    "    y=y,\n",
    "    cv=kfold,\n",
    "    scoring=['neg_mean_squared_error', 'r2']\n",
    ")\n",
    "\n",
    "# get the MSE\n",
    "rf_mse = f\"{-rf_scores['test_neg_mean_squared_error'].mean():.3f}\"\n",
    "\n",
    "# get the R²\n",
    "rf_r2 = f\"{rf_scores['test_r2'].mean():.3f}\"\n",
    "\n",
    "\n",
    "# display the results in a table\n",
    "\n",
    "results = [\n",
    "    [\"Linear Regression\", lr_mse, lr_r2],\n",
    "    [\"Random Forest\", rf_mse, rf_r2]\n",
    "]\n",
    "\n",
    "# Print the table\n",
    "print(tabulate(results, headers=[\"Model Name\", \"MSE\", \"R²\"], tablefmt=\"pretty\"))"
   ]
  },
  {
   "cell_type": "code",
   "execution_count": 23,
   "metadata": {},
   "outputs": [
    {
     "name": "stdout",
     "output_type": "stream",
     "text": [
      "+-------------------+-------------------+---------------------+\n",
      "|    Model Name     |        MSE        |         R²          |\n",
      "+-------------------+-------------------+---------------------+\n",
      "| Linear Regression | 919.8219853236259 | 0.40812172055766505 |\n",
      "|   Random Forest   | 436.019149103139  | 0.7194345559328215  |\n",
      "+-------------------+-------------------+---------------------+\n"
     ]
    }
   ],
   "source": [
    "# Using train_test_split\n",
    "X_train, X_test, y_train, y_test = train_test_split(X, y, test_size=0.3)\n",
    "\n",
    "# Linear Regression\n",
    "lr_pipeline.fit(X_train, y_train)\n",
    "\n",
    "# predict using the test set\n",
    "y_pred_lr = lr_pipeline.predict(X_test)\n",
    "\n",
    "# Evaluate\n",
    "lr_mse = mean_squared_error(y_test, y_pred_lr)\n",
    "lr_r2 = r2_score(y_test, y_pred_lr)\n",
    "\n",
    "# Random Forest\n",
    "rf_pipeline.fit(X_train, y_train)\n",
    "\n",
    "# predict using the test set\n",
    "y_pred_rf = rf_pipeline.predict(X_test)\n",
    "\n",
    "# Evaluate\n",
    "rf_mse = mean_squared_error(y_test, y_pred_rf)\n",
    "rf_r2 = r2_score(y_test, y_pred_rf)\n",
    "\n",
    "# display the results in a table\n",
    "results = [\n",
    "    [\"Linear Regression\", lr_mse, lr_r2],\n",
    "    [\"Random Forest\", rf_mse, rf_r2]\n",
    "]\n",
    "\n",
    "# Print the table\n",
    "print(tabulate(results, headers=[\"Model Name\", \"MSE\", \"R²\"], tablefmt=\"pretty\"))\n"
   ]
  },
  {
   "cell_type": "markdown",
   "metadata": {},
   "source": [
    "**Observation:**\n",
    "- From both `cross_validate` and `train_test_split` results, the Random Forest model outperforms the Linear Regression model.\n",
    "- The Random Forest model has a higher R2 score and lower RMSE value compared to the Linear Regression model.\n",
    "- This indicates that the Random Forest model is a better model for predicting the salary of a job."
   ]
  },
  {
   "cell_type": "code",
   "execution_count": 24,
   "metadata": {},
   "outputs": [
    {
     "name": "stdout",
     "output_type": "stream",
     "text": [
      "Tuning Linear Regression...\n",
      "Tuning Random Forest Regressor...\n",
      "Best parameters for Linear Regression: {'lr_model__fit_intercept': False}\n",
      "Best MSE for Linear Regression: 534.1975503180103\n",
      "Best parameters for Random Forest Regressor: {'rf_model__max_depth': None, 'rf_model__min_samples_leaf': 1, 'rf_model__min_samples_split': 2, 'rf_model__n_estimators': 200}\n",
      "Best MSE for Random Forest Regressor: 325.41242810006895\n"
     ]
    }
   ],
   "source": [
    "# Hyperparameter tuning using GridSearchCV\n",
    "\n",
    "# Define hyperparameter grids\n",
    "lr_param_grid = {\n",
    "    'lr_model__fit_intercept': [True, False]\n",
    "}\n",
    "\n",
    "rf_param_grid = {\n",
    "    'rf_model__n_estimators': [50, 100, 200],\n",
    "    'rf_model__max_depth': [5, 10, 20, None],\n",
    "    'rf_model__min_samples_split': [2, 5, 10],\n",
    "    'rf_model__min_samples_leaf': [1, 2, 4]\n",
    "}\n",
    "\n",
    "# GridSearch for Linear Regression\n",
    "lr_search = GridSearchCV(\n",
    "    estimator=lr_pipeline,\n",
    "    param_grid=lr_param_grid,\n",
    "    cv=kfold,\n",
    "    scoring='neg_mean_squared_error',\n",
    "    # verbose=2,\n",
    "    n_jobs=-1\n",
    ")\n",
    "\n",
    "# GridSearch for Random Forest Regressor\n",
    "rf_search = GridSearchCV(\n",
    "    estimator=rf_pipeline,\n",
    "    param_grid=rf_param_grid,\n",
    "    cv=kfold,\n",
    "    scoring='neg_mean_squared_error',\n",
    "    # verbose=2,\n",
    "    n_jobs=-1\n",
    ")\n",
    "\n",
    "# Fit the GridSearchCV objects\n",
    "print(\"Tuning Linear Regression...\")\n",
    "lr_search.fit(X, y)\n",
    "\n",
    "print(\"Tuning Random Forest Regressor...\")\n",
    "rf_search.fit(X, y)\n",
    "\n",
    "# Best parameters and scores\n",
    "print(\"Best parameters for Linear Regression:\", lr_search.best_params_)\n",
    "print(\"Best MSE for Linear Regression:\", -lr_search.best_score_)\n",
    "\n",
    "print(\"Best parameters for Random Forest Regressor:\", rf_search.best_params_)\n",
    "print(\"Best MSE for Random Forest Regressor:\", -rf_search.best_score_)\n"
   ]
  },
  {
   "cell_type": "code",
   "execution_count": 25,
   "metadata": {},
   "outputs": [],
   "source": [
    "# Retrieve best parameters for Linear Regression\n",
    "best_lr_params = lr_search.best_params_\n",
    "\n",
    "# Create a new pipeline with the best parameters for Linear Regression\n",
    "lr_pipeline_tuned = Pipeline([\n",
    "    ('preprocessing', preprocessor),\n",
    "    ('lr_model', LinearRegression(\n",
    "        fit_intercept=best_lr_params['lr_model__fit_intercept']\n",
    "    ))\n",
    "])\n",
    "\n",
    "# Retrieve best parameters for Random Forest Regressor\n",
    "best_rf_params = rf_search.best_params_\n",
    "\n",
    "# Create a new pipeline with the best parameters for Random Forest Regressor\n",
    "rf_pipeline_tuned = Pipeline([\n",
    "    ('preprocessing', preprocessor),\n",
    "    ('rf_model', RandomForestRegressor(\n",
    "        n_estimators=best_rf_params['rf_model__n_estimators'],\n",
    "        max_depth=best_rf_params['rf_model__max_depth'],\n",
    "        min_samples_split=best_rf_params['rf_model__min_samples_split'],\n",
    "        min_samples_leaf=best_rf_params['rf_model__min_samples_leaf'],\n",
    "        random_state=42\n",
    "    ))\n",
    "])\n"
   ]
  },
  {
   "cell_type": "code",
   "execution_count": 26,
   "metadata": {},
   "outputs": [
    {
     "name": "stdout",
     "output_type": "stream",
     "text": [
      "+--------------------+---------+-------+\n",
      "| Model Name (Tuned) |   MSE   |  R²   |\n",
      "+--------------------+---------+-------+\n",
      "| Linear Regression  | 819.000 | 0.393 |\n",
      "|   Random Forest    | 404.396 | 0.716 |\n",
      "+--------------------+---------+-------+\n"
     ]
    }
   ],
   "source": [
    "# Evaluate using cross_validate\n",
    "\n",
    "# Evaluate Linear Regression pipeline\n",
    "lr_tuned_scores = cross_validate(\n",
    "    estimator=lr_pipeline_tuned,\n",
    "    X=X,\n",
    "    y=y,\n",
    "    cv=5,\n",
    "    scoring=['neg_mean_squared_error', 'r2']\n",
    ")\n",
    "\n",
    "# get the MSE\n",
    "lr_tuned_mse = f\"{-lr_tuned_scores['test_neg_mean_squared_error'].mean():.3f}\"\n",
    "\n",
    "# get the R²\n",
    "lr_tuned_r2 = f\"{lr_tuned_scores['test_r2'].mean():.3f}\"\n",
    "\n",
    "# Evaluate Random Forest Regressor pipeline\n",
    "rf_tuned_scores = cross_validate(\n",
    "    estimator=rf_pipeline_tuned,\n",
    "    X=X,\n",
    "    y=y,\n",
    "    cv=5,\n",
    "    scoring=['neg_mean_squared_error', 'r2']\n",
    ")\n",
    "\n",
    "# get the MSE\n",
    "rf_tuned_mse = f\"{-rf_tuned_scores['test_neg_mean_squared_error'].mean():.3f}\"\n",
    "\n",
    "# get the R²\n",
    "rf_tuned_r2 = f\"{rf_tuned_scores['test_r2'].mean():.3f}\"\n",
    "\n",
    "# display the results in a table\n",
    "results = [\n",
    "    [\"Linear Regression\", lr_tuned_mse, lr_tuned_r2],\n",
    "    [\"Random Forest\", rf_tuned_mse, rf_tuned_r2]\n",
    "]\n",
    "\n",
    "# Print the table\n",
    "print(tabulate(results, headers=[\"Model Name (Tuned)\", \"MSE\", \"R²\"], tablefmt=\"pretty\"))"
   ]
  },
  {
   "cell_type": "code",
   "execution_count": 27,
   "metadata": {},
   "outputs": [
    {
     "name": "stdout",
     "output_type": "stream",
     "text": [
      "+--------------------+-------------------+---------------------+\n",
      "| Model Name (Tuned) |        MSE        |         R²          |\n",
      "+--------------------+-------------------+---------------------+\n",
      "| Linear Regression  | 913.8776823152906 | 0.41194670397097144 |\n",
      "|   Random Forest    | 418.2113526345291 | 0.7308933469844312  |\n",
      "+--------------------+-------------------+---------------------+\n"
     ]
    }
   ],
   "source": [
    "# Evaluate using Train test split\n",
    "# Using train_test_split\n",
    "\n",
    "# Linear Regression\n",
    "lr_pipeline_tuned.fit(X_train, y_train)\n",
    "\n",
    "# predict using the test set\n",
    "y_pred_lr_tuned = lr_pipeline_tuned.predict(X_test)\n",
    "\n",
    "# Evaluate\n",
    "lr_tuned_mse = mean_squared_error(y_test, y_pred_lr_tuned)\n",
    "lr_tuned_r2 = r2_score(y_test, y_pred_lr_tuned)\n",
    "\n",
    "# Random Forest\n",
    "rf_pipeline_tuned.fit(X_train, y_train)\n",
    "\n",
    "# predict using the test set\n",
    "y_pred_rf_tuned = rf_pipeline_tuned.predict(X_test)\n",
    "\n",
    "# Evaluate\n",
    "rf_mse_tuned = mean_squared_error(y_test, y_pred_rf_tuned)\n",
    "rf_r2_tuned = r2_score(y_test, y_pred_rf_tuned)\n",
    "\n",
    "# display the results in a table\n",
    "results = [\n",
    "    [\"Linear Regression\", lr_tuned_mse, lr_tuned_r2],\n",
    "    [\"Random Forest\", rf_mse_tuned, rf_r2_tuned]\n",
    "]\n",
    "\n",
    "# Print the table\n",
    "print(tabulate(results, headers=[\"Model Name (Tuned)\", \"MSE\", \"R²\"], tablefmt=\"pretty\"))\n"
   ]
  },
  {
   "cell_type": "markdown",
   "metadata": {},
   "source": [
    "**Observations:**\n",
    "- From both tuned results, Random Forest model still outperforms the Linear Regression model.\n",
    "- The Linear Regression model showed a slight decrease in the R2 score and an increase in the MSE value.\n",
    "- The Random Forest model showed a slight increase in the R2 score and a decrease in the MSE value."
   ]
  },
  {
   "cell_type": "code",
   "execution_count": 28,
   "metadata": {},
   "outputs": [
    {
     "data": {
      "text/plain": [
       "['salary_prediction_pipeline.pkl']"
      ]
     },
     "execution_count": 28,
     "metadata": {},
     "output_type": "execute_result"
    }
   ],
   "source": [
    "# export the best performing model\n",
    "\n",
    "joblib.dump(rf_pipeline, 'salary_prediction_pipeline.pkl')"
   ]
  }
 ],
 "metadata": {
  "kernelspec": {
   "display_name": ".venv",
   "language": "python",
   "name": "python3"
  },
  "language_info": {
   "codemirror_mode": {
    "name": "ipython",
    "version": 3
   },
   "file_extension": ".py",
   "mimetype": "text/x-python",
   "name": "python",
   "nbconvert_exporter": "python",
   "pygments_lexer": "ipython3",
   "version": "3.10.15"
  }
 },
 "nbformat": 4,
 "nbformat_minor": 2
}
